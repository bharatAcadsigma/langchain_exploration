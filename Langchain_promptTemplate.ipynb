{
  "nbformat": 4,
  "nbformat_minor": 0,
  "metadata": {
    "colab": {
      "provenance": []
    },
    "kernelspec": {
      "name": "python3",
      "display_name": "Python 3"
    },
    "language_info": {
      "name": "python"
    }
  },
  "cells": [
    {
      "cell_type": "code",
      "source": [
        "from langchain.prompts import PromptTemplate\n",
        "from langchain_google_genai import ChatGoogleGenerativeAI\n",
        "from langchain.chains import LLMChain\n",
        "from google.colab import userdata\n",
        "from pprint import pprint\n",
        "\n",
        "# Initialize Google Gemini LLM (replace with your actual API key)\n",
        "llm = ChatGoogleGenerativeAI(\n",
        "    model=\"gemini-1.5-pro\",\n",
        "    google_api_key=userdata.get(\"GOOGLE_API_KEY\")\n",
        ")\n",
        "\n",
        "# Parameterized Prompt\n",
        "parameterized_prompt = PromptTemplate(\n",
        "    input_variables=[\"topic\", \"style\"],\n",
        "    template=\"Write a poem about {topic} in the style of {style}.\"\n",
        ")\n",
        "parameterized_chain = LLMChain(llm=llm, prompt=parameterized_prompt)\n",
        "print(parameterized_chain.run({\"topic\": \"a sunset\", \"style\": \"Shakespeare\"}))"
      ],
      "metadata": {
        "colab": {
          "base_uri": "https://localhost:8080/"
        },
        "id": "SbnDVbOVoLrL",
        "outputId": "f7e7b64b-8f79-4950-b585-290633f78061"
      },
      "execution_count": null,
      "outputs": [
        {
          "output_type": "stream",
          "name": "stdout",
          "text": [
            "The fiery Titan, weary from his race,\n",
            "Doth sink at last behind yon western hill,\n",
            "His golden chariot yields to twilight's grace,\n",
            "And all the world grows hushed and strangely still.\n",
            "\n",
            "The clouds, like painted courtiers in the sky,\n",
            "Attend his exit in their robes of red,\n",
            "With hues of amber, violet, and dye\n",
            "That shame the richest silks on royal bed.\n",
            "\n",
            "The birds do sing their evensong so sweet,\n",
            "A mournful farewell to the fading light,\n",
            "As shadows lengthen and the cool winds greet\n",
            "The drowsy earth, preparing for the night.\n",
            "\n",
            "The sun's last kiss upon the ocean's face,\n",
            "A glimmering jewel, lost without a trace.\n",
            "And darkness draws her curtain, soft and slow,\n",
            "A gentle slumber o'er the world below.\n"
          ]
        }
      ]
    },
    {
      "cell_type": "code",
      "source": [
        "from langchain.prompts import PromptTemplate\n",
        "from langchain_google_genai import ChatGoogleGenerativeAI\n",
        "from langchain.chains import LLMChain\n",
        "from google.colab import userdata\n",
        "from pprint import pprint\n",
        "\n",
        "# Initialize Google Gemini LLM (replace with your actual API key)\n",
        "llm = ChatGoogleGenerativeAI(\n",
        "    model=\"gemini-1.5-pro\",\n",
        "    google_api_key=userdata.get(\"GOOGLE_API_KEY\")\n",
        ")\n",
        "\n",
        "# Zero-Shot Prompting\n",
        "zero_shot_prompt = PromptTemplate(\n",
        "    input_variables=[\"text\"],\n",
        "    template=\"Is this sentence positive or negative? {text}\"\n",
        ")\n",
        "zero_shot_chain = LLMChain(llm=llm, prompt=zero_shot_prompt)\n",
        "print(\"zero_shot: \",zero_shot_chain.invoke({\"text\": \"This movie was terrible.\"}))\n",
        "\n",
        "# Few-Shot Prompting\n",
        "few_shot_prompt = PromptTemplate(\n",
        "    input_variables=[\"text\"],\n",
        "    template=\"\"\"\n",
        "    Answer the question based on the examples given.\n",
        "\n",
        "    Examples:\n",
        "    Question: This movie was amazing!\n",
        "    Answer: Positive\n",
        "    Question: I hated that book.\n",
        "    Answer: Negative\n",
        "\n",
        "    Question: {text}\n",
        "    Answer:\"\"\"\n",
        ")\n",
        "few_shot_chain = LLMChain(llm=llm, prompt=few_shot_prompt)\n",
        "print(\"few_shot:\",few_shot_chain.invoke({\"text\": \"The food was delicious.\"}))"
      ],
      "metadata": {
        "colab": {
          "base_uri": "https://localhost:8080/"
        },
        "id": "icCfzKMQn_5v",
        "outputId": "4cee21aa-a998-4694-c11d-5e4247aef04c"
      },
      "execution_count": null,
      "outputs": [
        {
          "output_type": "stream",
          "name": "stdout",
          "text": [
            "zero_shot:  {'text': 'Negative.  \"Terrible\" carries a negative connotation.'}\n",
            "few_shot: {'text': 'Positive'}\n"
          ]
        }
      ]
    },
    {
      "cell_type": "code",
      "source": [
        "from langchain.prompts import PromptTemplate\n",
        "from langchain_google_genai import ChatGoogleGenerativeAI\n",
        "from langchain.chains import LLMChain\n",
        "from google.colab import userdata\n",
        "\n",
        "# Initialize Google Gemini LLM (replace with your actual API key)\n",
        "llm = ChatGoogleGenerativeAI(\n",
        "    model=\"gemini-1.5-pro\",\n",
        "    google_api_key=userdata.get(\"GOOGLE_API_KEY\")\n",
        ")\n",
        "\n",
        "# Dynamic Prompt Formatting\n",
        "dynamic_prompt = PromptTemplate(\n",
        "    input_variables=[\"topic\", \"length\"],\n",
        "    template=\"Write a {length} paragraph about {topic}.\"\n",
        ")\n",
        "dynamic_chain = LLMChain(llm=llm, prompt=dynamic_prompt)\n",
        "dynamic_chain.invoke({\"topic\": \"the history of artificial intelligence\", \"length\": \"short\"})"
      ],
      "metadata": {
        "colab": {
          "base_uri": "https://localhost:8080/"
        },
        "id": "ZcfM1y7CncdL",
        "outputId": "de03e337-2c99-4372-c473-48478f95c527"
      },
      "execution_count": null,
      "outputs": [
        {
          "output_type": "execute_result",
          "data": {
            "text/plain": [
              "{'topic': 'the history of artificial intelligence',\n",
              " 'length': 'short',\n",
              " 'text': 'The concept of artificial intelligence dates back to antiquity, with myths and stories of artificial beings endowed with intelligence or consciousness. However, the formal field of AI research began in the 1950s, marked by the Dartmouth Workshop in 1956 where the term \"artificial intelligence\" was coined. Early AI research focused on symbolic reasoning, problem-solving, and game playing, achieving notable successes like checkers-playing programs.  Progress fluctuated through periods of excitement and disillusionment, known as \"AI winters,\" due to unmet expectations.  The late 20th and early 21st centuries saw a resurgence driven by advances in machine learning, particularly deep learning fueled by vast datasets and increased computing power.  This has led to breakthroughs in areas like image recognition, natural language processing, and robotics, bringing AI into everyday life.'}"
            ]
          },
          "metadata": {},
          "execution_count": 8
        }
      ]
    },
    {
      "cell_type": "code",
      "source": [
        "!pip install langchain-google-genai"
      ],
      "metadata": {
        "colab": {
          "base_uri": "https://localhost:8080/",
          "height": 1000
        },
        "id": "TQ90gf93puYu",
        "outputId": "f8eca948-b9e8-4e4b-cb4a-3256d6a05501"
      },
      "execution_count": null,
      "outputs": [
        {
          "output_type": "stream",
          "name": "stdout",
          "text": [
            "Collecting langchain-google-genai\n",
            "  Downloading langchain_google_genai-2.0.11-py3-none-any.whl.metadata (3.6 kB)\n",
            "Collecting filetype<2.0.0,>=1.2.0 (from langchain-google-genai)\n",
            "  Downloading filetype-1.2.0-py2.py3-none-any.whl.metadata (6.5 kB)\n",
            "Collecting google-ai-generativelanguage<0.7.0,>=0.6.16 (from langchain-google-genai)\n",
            "  Downloading google_ai_generativelanguage-0.6.16-py3-none-any.whl.metadata (5.7 kB)\n",
            "Requirement already satisfied: langchain-core<0.4.0,>=0.3.37 in /usr/local/lib/python3.11/dist-packages (from langchain-google-genai) (0.3.41)\n",
            "Requirement already satisfied: pydantic<3,>=2 in /usr/local/lib/python3.11/dist-packages (from langchain-google-genai) (2.10.6)\n",
            "Requirement already satisfied: google-api-core!=2.0.*,!=2.1.*,!=2.10.*,!=2.2.*,!=2.3.*,!=2.4.*,!=2.5.*,!=2.6.*,!=2.7.*,!=2.8.*,!=2.9.*,<3.0.0dev,>=1.34.1 in /usr/local/lib/python3.11/dist-packages (from google-api-core[grpc]!=2.0.*,!=2.1.*,!=2.10.*,!=2.2.*,!=2.3.*,!=2.4.*,!=2.5.*,!=2.6.*,!=2.7.*,!=2.8.*,!=2.9.*,<3.0.0dev,>=1.34.1->google-ai-generativelanguage<0.7.0,>=0.6.16->langchain-google-genai) (2.24.1)\n",
            "Requirement already satisfied: google-auth!=2.24.0,!=2.25.0,<3.0.0dev,>=2.14.1 in /usr/local/lib/python3.11/dist-packages (from google-ai-generativelanguage<0.7.0,>=0.6.16->langchain-google-genai) (2.38.0)\n",
            "Requirement already satisfied: proto-plus<2.0.0dev,>=1.22.3 in /usr/local/lib/python3.11/dist-packages (from google-ai-generativelanguage<0.7.0,>=0.6.16->langchain-google-genai) (1.26.0)\n",
            "Requirement already satisfied: protobuf!=4.21.0,!=4.21.1,!=4.21.2,!=4.21.3,!=4.21.4,!=4.21.5,<6.0.0dev,>=3.20.2 in /usr/local/lib/python3.11/dist-packages (from google-ai-generativelanguage<0.7.0,>=0.6.16->langchain-google-genai) (4.25.6)\n",
            "Requirement already satisfied: langsmith<0.4,>=0.1.125 in /usr/local/lib/python3.11/dist-packages (from langchain-core<0.4.0,>=0.3.37->langchain-google-genai) (0.3.11)\n",
            "Requirement already satisfied: tenacity!=8.4.0,<10.0.0,>=8.1.0 in /usr/local/lib/python3.11/dist-packages (from langchain-core<0.4.0,>=0.3.37->langchain-google-genai) (9.0.0)\n",
            "Requirement already satisfied: jsonpatch<2.0,>=1.33 in /usr/local/lib/python3.11/dist-packages (from langchain-core<0.4.0,>=0.3.37->langchain-google-genai) (1.33)\n",
            "Requirement already satisfied: PyYAML>=5.3 in /usr/local/lib/python3.11/dist-packages (from langchain-core<0.4.0,>=0.3.37->langchain-google-genai) (6.0.2)\n",
            "Requirement already satisfied: packaging<25,>=23.2 in /usr/local/lib/python3.11/dist-packages (from langchain-core<0.4.0,>=0.3.37->langchain-google-genai) (24.2)\n",
            "Requirement already satisfied: typing-extensions>=4.7 in /usr/local/lib/python3.11/dist-packages (from langchain-core<0.4.0,>=0.3.37->langchain-google-genai) (4.12.2)\n",
            "Requirement already satisfied: annotated-types>=0.6.0 in /usr/local/lib/python3.11/dist-packages (from pydantic<3,>=2->langchain-google-genai) (0.7.0)\n",
            "Requirement already satisfied: pydantic-core==2.27.2 in /usr/local/lib/python3.11/dist-packages (from pydantic<3,>=2->langchain-google-genai) (2.27.2)\n",
            "Requirement already satisfied: googleapis-common-protos<2.0.dev0,>=1.56.2 in /usr/local/lib/python3.11/dist-packages (from google-api-core!=2.0.*,!=2.1.*,!=2.10.*,!=2.2.*,!=2.3.*,!=2.4.*,!=2.5.*,!=2.6.*,!=2.7.*,!=2.8.*,!=2.9.*,<3.0.0dev,>=1.34.1->google-api-core[grpc]!=2.0.*,!=2.1.*,!=2.10.*,!=2.2.*,!=2.3.*,!=2.4.*,!=2.5.*,!=2.6.*,!=2.7.*,!=2.8.*,!=2.9.*,<3.0.0dev,>=1.34.1->google-ai-generativelanguage<0.7.0,>=0.6.16->langchain-google-genai) (1.69.0)\n",
            "Requirement already satisfied: requests<3.0.0.dev0,>=2.18.0 in /usr/local/lib/python3.11/dist-packages (from google-api-core!=2.0.*,!=2.1.*,!=2.10.*,!=2.2.*,!=2.3.*,!=2.4.*,!=2.5.*,!=2.6.*,!=2.7.*,!=2.8.*,!=2.9.*,<3.0.0dev,>=1.34.1->google-api-core[grpc]!=2.0.*,!=2.1.*,!=2.10.*,!=2.2.*,!=2.3.*,!=2.4.*,!=2.5.*,!=2.6.*,!=2.7.*,!=2.8.*,!=2.9.*,<3.0.0dev,>=1.34.1->google-ai-generativelanguage<0.7.0,>=0.6.16->langchain-google-genai) (2.32.3)\n",
            "Requirement already satisfied: grpcio<2.0dev,>=1.33.2 in /usr/local/lib/python3.11/dist-packages (from google-api-core[grpc]!=2.0.*,!=2.1.*,!=2.10.*,!=2.2.*,!=2.3.*,!=2.4.*,!=2.5.*,!=2.6.*,!=2.7.*,!=2.8.*,!=2.9.*,<3.0.0dev,>=1.34.1->google-ai-generativelanguage<0.7.0,>=0.6.16->langchain-google-genai) (1.70.0)\n",
            "Requirement already satisfied: grpcio-status<2.0.dev0,>=1.33.2 in /usr/local/lib/python3.11/dist-packages (from google-api-core[grpc]!=2.0.*,!=2.1.*,!=2.10.*,!=2.2.*,!=2.3.*,!=2.4.*,!=2.5.*,!=2.6.*,!=2.7.*,!=2.8.*,!=2.9.*,<3.0.0dev,>=1.34.1->google-ai-generativelanguage<0.7.0,>=0.6.16->langchain-google-genai) (1.62.3)\n",
            "Requirement already satisfied: cachetools<6.0,>=2.0.0 in /usr/local/lib/python3.11/dist-packages (from google-auth!=2.24.0,!=2.25.0,<3.0.0dev,>=2.14.1->google-ai-generativelanguage<0.7.0,>=0.6.16->langchain-google-genai) (5.5.2)\n",
            "Requirement already satisfied: pyasn1-modules>=0.2.1 in /usr/local/lib/python3.11/dist-packages (from google-auth!=2.24.0,!=2.25.0,<3.0.0dev,>=2.14.1->google-ai-generativelanguage<0.7.0,>=0.6.16->langchain-google-genai) (0.4.1)\n",
            "Requirement already satisfied: rsa<5,>=3.1.4 in /usr/local/lib/python3.11/dist-packages (from google-auth!=2.24.0,!=2.25.0,<3.0.0dev,>=2.14.1->google-ai-generativelanguage<0.7.0,>=0.6.16->langchain-google-genai) (4.9)\n",
            "Requirement already satisfied: jsonpointer>=1.9 in /usr/local/lib/python3.11/dist-packages (from jsonpatch<2.0,>=1.33->langchain-core<0.4.0,>=0.3.37->langchain-google-genai) (3.0.0)\n",
            "Requirement already satisfied: httpx<1,>=0.23.0 in /usr/local/lib/python3.11/dist-packages (from langsmith<0.4,>=0.1.125->langchain-core<0.4.0,>=0.3.37->langchain-google-genai) (0.28.1)\n",
            "Requirement already satisfied: orjson<4.0.0,>=3.9.14 in /usr/local/lib/python3.11/dist-packages (from langsmith<0.4,>=0.1.125->langchain-core<0.4.0,>=0.3.37->langchain-google-genai) (3.10.15)\n",
            "Requirement already satisfied: requests-toolbelt<2.0.0,>=1.0.0 in /usr/local/lib/python3.11/dist-packages (from langsmith<0.4,>=0.1.125->langchain-core<0.4.0,>=0.3.37->langchain-google-genai) (1.0.0)\n",
            "Requirement already satisfied: zstandard<0.24.0,>=0.23.0 in /usr/local/lib/python3.11/dist-packages (from langsmith<0.4,>=0.1.125->langchain-core<0.4.0,>=0.3.37->langchain-google-genai) (0.23.0)\n",
            "Requirement already satisfied: anyio in /usr/local/lib/python3.11/dist-packages (from httpx<1,>=0.23.0->langsmith<0.4,>=0.1.125->langchain-core<0.4.0,>=0.3.37->langchain-google-genai) (3.7.1)\n",
            "Requirement already satisfied: certifi in /usr/local/lib/python3.11/dist-packages (from httpx<1,>=0.23.0->langsmith<0.4,>=0.1.125->langchain-core<0.4.0,>=0.3.37->langchain-google-genai) (2025.1.31)\n",
            "Requirement already satisfied: httpcore==1.* in /usr/local/lib/python3.11/dist-packages (from httpx<1,>=0.23.0->langsmith<0.4,>=0.1.125->langchain-core<0.4.0,>=0.3.37->langchain-google-genai) (1.0.7)\n",
            "Requirement already satisfied: idna in /usr/local/lib/python3.11/dist-packages (from httpx<1,>=0.23.0->langsmith<0.4,>=0.1.125->langchain-core<0.4.0,>=0.3.37->langchain-google-genai) (3.10)\n",
            "Requirement already satisfied: h11<0.15,>=0.13 in /usr/local/lib/python3.11/dist-packages (from httpcore==1.*->httpx<1,>=0.23.0->langsmith<0.4,>=0.1.125->langchain-core<0.4.0,>=0.3.37->langchain-google-genai) (0.14.0)\n",
            "Requirement already satisfied: pyasn1<0.7.0,>=0.4.6 in /usr/local/lib/python3.11/dist-packages (from pyasn1-modules>=0.2.1->google-auth!=2.24.0,!=2.25.0,<3.0.0dev,>=2.14.1->google-ai-generativelanguage<0.7.0,>=0.6.16->langchain-google-genai) (0.6.1)\n",
            "Requirement already satisfied: charset-normalizer<4,>=2 in /usr/local/lib/python3.11/dist-packages (from requests<3.0.0.dev0,>=2.18.0->google-api-core!=2.0.*,!=2.1.*,!=2.10.*,!=2.2.*,!=2.3.*,!=2.4.*,!=2.5.*,!=2.6.*,!=2.7.*,!=2.8.*,!=2.9.*,<3.0.0dev,>=1.34.1->google-api-core[grpc]!=2.0.*,!=2.1.*,!=2.10.*,!=2.2.*,!=2.3.*,!=2.4.*,!=2.5.*,!=2.6.*,!=2.7.*,!=2.8.*,!=2.9.*,<3.0.0dev,>=1.34.1->google-ai-generativelanguage<0.7.0,>=0.6.16->langchain-google-genai) (3.4.1)\n",
            "Requirement already satisfied: urllib3<3,>=1.21.1 in /usr/local/lib/python3.11/dist-packages (from requests<3.0.0.dev0,>=2.18.0->google-api-core!=2.0.*,!=2.1.*,!=2.10.*,!=2.2.*,!=2.3.*,!=2.4.*,!=2.5.*,!=2.6.*,!=2.7.*,!=2.8.*,!=2.9.*,<3.0.0dev,>=1.34.1->google-api-core[grpc]!=2.0.*,!=2.1.*,!=2.10.*,!=2.2.*,!=2.3.*,!=2.4.*,!=2.5.*,!=2.6.*,!=2.7.*,!=2.8.*,!=2.9.*,<3.0.0dev,>=1.34.1->google-ai-generativelanguage<0.7.0,>=0.6.16->langchain-google-genai) (2.3.0)\n",
            "Requirement already satisfied: sniffio>=1.1 in /usr/local/lib/python3.11/dist-packages (from anyio->httpx<1,>=0.23.0->langsmith<0.4,>=0.1.125->langchain-core<0.4.0,>=0.3.37->langchain-google-genai) (1.3.1)\n",
            "Downloading langchain_google_genai-2.0.11-py3-none-any.whl (39 kB)\n",
            "Downloading filetype-1.2.0-py2.py3-none-any.whl (19 kB)\n",
            "Downloading google_ai_generativelanguage-0.6.16-py3-none-any.whl (1.4 MB)\n",
            "\u001b[2K   \u001b[90m━━━━━━━━━━━━━━━━━━━━━━━━━━━━━━━━━━━━━━━━\u001b[0m \u001b[32m1.4/1.4 MB\u001b[0m \u001b[31m19.8 MB/s\u001b[0m eta \u001b[36m0:00:00\u001b[0m\n",
            "\u001b[?25hInstalling collected packages: filetype, google-ai-generativelanguage, langchain-google-genai\n",
            "  Attempting uninstall: google-ai-generativelanguage\n",
            "    Found existing installation: google-ai-generativelanguage 0.6.15\n",
            "    Uninstalling google-ai-generativelanguage-0.6.15:\n",
            "      Successfully uninstalled google-ai-generativelanguage-0.6.15\n",
            "\u001b[31mERROR: pip's dependency resolver does not currently take into account all the packages that are installed. This behaviour is the source of the following dependency conflicts.\n",
            "google-generativeai 0.8.4 requires google-ai-generativelanguage==0.6.15, but you have google-ai-generativelanguage 0.6.16 which is incompatible.\u001b[0m\u001b[31m\n",
            "\u001b[0mSuccessfully installed filetype-1.2.0 google-ai-generativelanguage-0.6.16 langchain-google-genai-2.0.11\n"
          ]
        },
        {
          "output_type": "display_data",
          "data": {
            "application/vnd.colab-display-data+json": {
              "pip_warning": {
                "packages": [
                  "google"
                ]
              },
              "id": "e0f0cc1b4e8345729bd6d8510281f487"
            }
          },
          "metadata": {}
        }
      ]
    },
    {
      "cell_type": "code",
      "source": [
        "from langchain.prompts import PromptTemplate\n",
        "from langchain.chains import LLMChain\n",
        "from langchain_google_genai import ChatGoogleGenerativeAI\n",
        "from google.colab import userdata\n",
        "\n",
        "llm = ChatGoogleGenerativeAI(\n",
        "    model=\"gemini-1.5-pro\",\n",
        "    google_api_key=userdata.get(\"GOOGLE_API_KEY\")\n",
        ")\n",
        "\n",
        "outline_prompt = PromptTemplate(\n",
        "    input_variables=[\"topic\"],\n",
        "    template=\"Generate an outline for an article about {topic}.\"\n",
        ")\n",
        "\n",
        "detail_prompt = PromptTemplate(\n",
        "    input_variables=[\"outline\"],\n",
        "    template=\"Expand on the following article outline: {outline}\"\n",
        ")\n",
        "\n",
        "outline_chain = LLMChain(llm=llm, prompt=outline_prompt)\n",
        "detail_chain = LLMChain(llm=llm, prompt=detail_prompt)\n",
        "\n",
        "detailed_article = detail_chain.run(outline_chain.run(\"Artificial Intelligence\"))\n",
        "\n",
        "detailed_article"
      ],
      "metadata": {
        "colab": {
          "base_uri": "https://localhost:8080/",
          "height": 122
        },
        "id": "0LkojbXtDZpp",
        "outputId": "cfc14bb7-599e-458a-d1ca-25a6b8904bae"
      },
      "execution_count": null,
      "outputs": [
        {
          "output_type": "execute_result",
          "data": {
            "text/plain": [
              "'## Demystifying Artificial Intelligence\\n\\n**I. Introduction**\\n\\nArtificial intelligence (AI) is rapidly transforming our world, weaving its way into our everyday lives in ways we may not even realize.  From the spam filters in our email inboxes to the personalized recommendations on our streaming services, AI is increasingly present.  At its core, AI involves the development of computer systems capable of performing tasks that typically require human intelligence, such as learning, problem-solving, and decision-making.  This encompasses various subfields, including machine learning, where algorithms learn from data; deep learning, a subset of machine learning utilizing artificial neural networks; and natural language processing, enabling computers to understand and interact with human language. This article aims to demystify AI, providing a clear and concise overview of its workings, applications, potential impact, and future trajectory.\\n\\n**II. What is AI?**\\n\\nAI systems can be categorized into different types based on their capabilities:\\n\\n* **Narrow/Weak AI:** This is the most common type of AI today, designed for specific tasks. Examples include spam filters, recommendation systems, facial recognition software, and virtual assistants like Siri or Alexa.  These systems excel in their designated areas but lack general intelligence.\\n* **General/Strong AI:**  This hypothetical type of AI would possess human-level intelligence and cognitive abilities, capable of understanding, learning, and applying knowledge across a wide range of domains.  Strong AI remains a significant challenge and is currently a subject of ongoing research.\\n* **Super AI:**  This hypothetical AI surpasses human intelligence in all aspects, possessing superior problem-solving, learning, and creative abilities.  The concept of Super AI raises complex ethical and existential questions and remains firmly in the realm of science fiction for now.\\n\\nThe history of AI dates back to the mid-20th century, with key milestones including the Dartmouth Workshop in 1956, considered the birthplace of AI, and the development of early AI programs like ELIZA and Shakey.  Pioneering figures like Alan Turing, John McCarthy, and Marvin Minsky laid the foundation for the field.\\n\\n**III. How does AI work?**\\n\\nMachine learning is a central component of many AI systems. It involves algorithms that learn from data without explicit programming.  There are several types of machine learning:\\n\\n* **Supervised Learning:** Algorithms are trained on labeled datasets, meaning the input data is paired with the correct output. The algorithm learns to map inputs to outputs, enabling it to predict outputs for new, unseen inputs. Examples include image recognition and spam detection.\\n* **Unsupervised Learning:** Algorithms analyze unlabeled data to identify patterns, relationships, and structures.  Clustering and dimensionality reduction are common unsupervised learning techniques.\\n* **Reinforcement Learning:** Algorithms learn through trial and error, receiving rewards for desired actions and penalties for undesired ones.  This approach is used in robotics, game playing, and navigation systems.\\n\\nDeep learning, a subset of machine learning, utilizes artificial neural networks with multiple layers to extract increasingly complex features from data.  These networks are inspired by the structure of the human brain and have achieved remarkable results in areas like image and speech recognition.\\n\\n**IV. Applications of AI**\\n\\nAI is already impacting various sectors:\\n\\n* **Healthcare:** AI assists in diagnosis (analyzing medical images), drug discovery (identifying potential drug candidates), and personalized medicine (tailoring treatments based on individual patient data).  Future applications include robotic surgery and predictive diagnostics.\\n* **Finance:** AI powers fraud detection systems, algorithmic trading platforms, and risk assessment models. Future uses include personalized financial advice and automated loan approvals.\\n* **Transportation:** Self-driving cars are a prominent example of AI in transportation, along with traffic optimization systems and autonomous delivery drones. Future developments include smart traffic management and personalized transportation services.\\n* **Entertainment:** AI is used in recommendation systems for movies, music, and games, as well as in creating realistic non-player characters in video games. Future applications include AI-generated content and personalized entertainment experiences.\\n* **Customer Service:** AI-powered chatbots and virtual assistants provide 24/7 customer support, answering questions and resolving issues.  Future developments include more sophisticated and empathetic AI customer service agents.\\n\\n**V. The Impact of AI**\\n\\nAI offers numerous potential benefits:\\n\\n* **Increased Efficiency and Productivity:** Automating repetitive tasks frees up human workers for more complex and creative endeavors.\\n* **Improved Healthcare Outcomes:**  AI can lead to earlier and more accurate diagnoses, personalized treatments, and more efficient drug development.\\n* **Enhanced Safety and Security:** AI can enhance security systems, prevent cyberattacks, and improve safety in transportation and other industries.\\n* **New Economic Opportunities:** AI is creating new industries and job roles related to its development, implementation, and maintenance.\\n\\n\\nHowever, AI also presents potential risks:\\n\\n* **Job Displacement:** Automation driven by AI could lead to job losses in certain sectors.\\n* **Algorithmic Bias:** AI algorithms can inherit and amplify biases present in the data they are trained on, leading to unfair or discriminatory outcomes.\\n* **Ethical Concerns:**  Issues surrounding privacy, autonomy, accountability, and the potential misuse of AI technology need careful consideration.\\n* **Potential Misuse:**  AI could be misused for malicious purposes, such as developing autonomous weapons or manipulating public opinion.\\n\\n**VI. The Future of AI**\\n\\nThe future of AI is filled with both promise and uncertainty.  Ongoing research focuses on developing more robust and explainable AI systems, improving their ability to learn and reason, and addressing ethical concerns.  Advancements in areas like quantum computing and neuromorphic computing could further accelerate AI development.  The widespread adoption of AI will likely have profound societal implications, impacting everything from the economy and the labor market to healthcare, education, and governance.\\n\\n**VII. Conclusion**\\n\\nAI is a powerful technology with the potential to reshape our world.  Understanding its workings, applications, and potential impact is crucial for navigating the challenges and opportunities it presents.  While AI offers numerous benefits, including increased efficiency, improved healthcare, and enhanced safety, we must also address the potential risks of job displacement, algorithmic bias, and ethical concerns.  By fostering a balanced perspective and encouraging ongoing dialogue, we can harness the power of AI for the betterment of society.\\n\\n**VIII. Glossary of Terms**\\n\\n* **Artificial Intelligence (AI):**  The ability of a computer or a robot controlled by a computer to do tasks that are usually done by humans because they require human intelligence and discernment.\\n* **Machine Learning:** A subfield of AI where algorithms learn from data without explicit programming.\\n* **Deep Learning:** A subset of machine learning that uses artificial neural networks with multiple layers to extract increasingly complex features from data.\\n* **Natural Language Processing (NLP):** A branch of AI that focuses on enabling computers to understand, interpret, and generate human language.\\n* **Algorithm:** A set of rules or instructions that a computer follows to solve a problem.\\n* **Neural Network:**  A computing system inspired by the structure and function of the human brain.\\n\\n\\n**IX. Further Reading/Resources**\\n\\n* [Link to a relevant AI research organization website (e.g., OpenAI, AI Now Institute)]\\n* [Link to a reputable news article about AI advancements]\\n* [Link to a book about the ethical implications of AI]\\n* [Link to a beginner-friendly online course about AI] '"
            ],
            "application/vnd.google.colaboratory.intrinsic+json": {
              "type": "string"
            }
          },
          "metadata": {},
          "execution_count": 38
        }
      ]
    },
    {
      "cell_type": "code",
      "source": [
        "from IPython.display import Markdown\n",
        "display(Markdown(detailed_article))"
      ],
      "metadata": {
        "colab": {
          "base_uri": "https://localhost:8080/",
          "height": 1000
        },
        "id": "-MDbp06tiQey",
        "outputId": "50136ecf-caae-4e8b-b4d0-dab5b06b1dd3"
      },
      "execution_count": null,
      "outputs": [
        {
          "output_type": "display_data",
          "data": {
            "text/plain": [
              "<IPython.core.display.Markdown object>"
            ],
            "text/markdown": "## Demystifying Artificial Intelligence\n\n**I. Introduction**\n\nArtificial intelligence (AI) is rapidly transforming our world, weaving its way into our everyday lives in ways we may not even realize.  From the spam filters in our email inboxes to the personalized recommendations on our streaming services, AI is increasingly present.  At its core, AI involves the development of computer systems capable of performing tasks that typically require human intelligence, such as learning, problem-solving, and decision-making.  This encompasses various subfields, including machine learning, where algorithms learn from data; deep learning, a subset of machine learning utilizing artificial neural networks; and natural language processing, enabling computers to understand and interact with human language. This article aims to demystify AI, providing a clear and concise overview of its workings, applications, potential impact, and future trajectory.\n\n**II. What is AI?**\n\nAI systems can be categorized into different types based on their capabilities:\n\n* **Narrow/Weak AI:** This is the most common type of AI today, designed for specific tasks. Examples include spam filters, recommendation systems, facial recognition software, and virtual assistants like Siri or Alexa.  These systems excel in their designated areas but lack general intelligence.\n* **General/Strong AI:**  This hypothetical type of AI would possess human-level intelligence and cognitive abilities, capable of understanding, learning, and applying knowledge across a wide range of domains.  Strong AI remains a significant challenge and is currently a subject of ongoing research.\n* **Super AI:**  This hypothetical AI surpasses human intelligence in all aspects, possessing superior problem-solving, learning, and creative abilities.  The concept of Super AI raises complex ethical and existential questions and remains firmly in the realm of science fiction for now.\n\nThe history of AI dates back to the mid-20th century, with key milestones including the Dartmouth Workshop in 1956, considered the birthplace of AI, and the development of early AI programs like ELIZA and Shakey.  Pioneering figures like Alan Turing, John McCarthy, and Marvin Minsky laid the foundation for the field.\n\n**III. How does AI work?**\n\nMachine learning is a central component of many AI systems. It involves algorithms that learn from data without explicit programming.  There are several types of machine learning:\n\n* **Supervised Learning:** Algorithms are trained on labeled datasets, meaning the input data is paired with the correct output. The algorithm learns to map inputs to outputs, enabling it to predict outputs for new, unseen inputs. Examples include image recognition and spam detection.\n* **Unsupervised Learning:** Algorithms analyze unlabeled data to identify patterns, relationships, and structures.  Clustering and dimensionality reduction are common unsupervised learning techniques.\n* **Reinforcement Learning:** Algorithms learn through trial and error, receiving rewards for desired actions and penalties for undesired ones.  This approach is used in robotics, game playing, and navigation systems.\n\nDeep learning, a subset of machine learning, utilizes artificial neural networks with multiple layers to extract increasingly complex features from data.  These networks are inspired by the structure of the human brain and have achieved remarkable results in areas like image and speech recognition.\n\n**IV. Applications of AI**\n\nAI is already impacting various sectors:\n\n* **Healthcare:** AI assists in diagnosis (analyzing medical images), drug discovery (identifying potential drug candidates), and personalized medicine (tailoring treatments based on individual patient data).  Future applications include robotic surgery and predictive diagnostics.\n* **Finance:** AI powers fraud detection systems, algorithmic trading platforms, and risk assessment models. Future uses include personalized financial advice and automated loan approvals.\n* **Transportation:** Self-driving cars are a prominent example of AI in transportation, along with traffic optimization systems and autonomous delivery drones. Future developments include smart traffic management and personalized transportation services.\n* **Entertainment:** AI is used in recommendation systems for movies, music, and games, as well as in creating realistic non-player characters in video games. Future applications include AI-generated content and personalized entertainment experiences.\n* **Customer Service:** AI-powered chatbots and virtual assistants provide 24/7 customer support, answering questions and resolving issues.  Future developments include more sophisticated and empathetic AI customer service agents.\n\n**V. The Impact of AI**\n\nAI offers numerous potential benefits:\n\n* **Increased Efficiency and Productivity:** Automating repetitive tasks frees up human workers for more complex and creative endeavors.\n* **Improved Healthcare Outcomes:**  AI can lead to earlier and more accurate diagnoses, personalized treatments, and more efficient drug development.\n* **Enhanced Safety and Security:** AI can enhance security systems, prevent cyberattacks, and improve safety in transportation and other industries.\n* **New Economic Opportunities:** AI is creating new industries and job roles related to its development, implementation, and maintenance.\n\n\nHowever, AI also presents potential risks:\n\n* **Job Displacement:** Automation driven by AI could lead to job losses in certain sectors.\n* **Algorithmic Bias:** AI algorithms can inherit and amplify biases present in the data they are trained on, leading to unfair or discriminatory outcomes.\n* **Ethical Concerns:**  Issues surrounding privacy, autonomy, accountability, and the potential misuse of AI technology need careful consideration.\n* **Potential Misuse:**  AI could be misused for malicious purposes, such as developing autonomous weapons or manipulating public opinion.\n\n**VI. The Future of AI**\n\nThe future of AI is filled with both promise and uncertainty.  Ongoing research focuses on developing more robust and explainable AI systems, improving their ability to learn and reason, and addressing ethical concerns.  Advancements in areas like quantum computing and neuromorphic computing could further accelerate AI development.  The widespread adoption of AI will likely have profound societal implications, impacting everything from the economy and the labor market to healthcare, education, and governance.\n\n**VII. Conclusion**\n\nAI is a powerful technology with the potential to reshape our world.  Understanding its workings, applications, and potential impact is crucial for navigating the challenges and opportunities it presents.  While AI offers numerous benefits, including increased efficiency, improved healthcare, and enhanced safety, we must also address the potential risks of job displacement, algorithmic bias, and ethical concerns.  By fostering a balanced perspective and encouraging ongoing dialogue, we can harness the power of AI for the betterment of society.\n\n**VIII. Glossary of Terms**\n\n* **Artificial Intelligence (AI):**  The ability of a computer or a robot controlled by a computer to do tasks that are usually done by humans because they require human intelligence and discernment.\n* **Machine Learning:** A subfield of AI where algorithms learn from data without explicit programming.\n* **Deep Learning:** A subset of machine learning that uses artificial neural networks with multiple layers to extract increasingly complex features from data.\n* **Natural Language Processing (NLP):** A branch of AI that focuses on enabling computers to understand, interpret, and generate human language.\n* **Algorithm:** A set of rules or instructions that a computer follows to solve a problem.\n* **Neural Network:**  A computing system inspired by the structure and function of the human brain.\n\n\n**IX. Further Reading/Resources**\n\n* [Link to a relevant AI research organization website (e.g., OpenAI, AI Now Institute)]\n* [Link to a reputable news article about AI advancements]\n* [Link to a book about the ethical implications of AI]\n* [Link to a beginner-friendly online course about AI] "
          },
          "metadata": {}
        }
      ]
    },
    {
      "cell_type": "code",
      "source": [
        "from langchain.prompts import PromptTemplate\n",
        "from langchain.chains import LLMChain\n",
        "from langchain_google_genai import ChatGoogleGenerativeAI\n",
        "from google.colab import userdata\n",
        "from IPython.display import Markdown\n",
        "\n",
        "llm = ChatGoogleGenerativeAI(\n",
        "    model=\"gemini-1.5-pro\",\n",
        "    google_api_key=userdata.get(\"GOOGLE_API_KEY\"),\n",
        "    temperature=0.8)\n",
        "\n",
        "outline_prompt = PromptTemplate(input_variables=[\"topic\"],\n",
        "    template=\"Generate an outline for an article about {topic}.\")\n",
        "\n",
        "user_input = input(\"Enter the topic of your article:\")\n",
        "\n",
        "detail_prompt = PromptTemplate(input_variables=[\"outline\"],\n",
        "    template=\"Following is an outline of the topic you are supposed to expand and create a blog on as an expert blogger, outline:{outline}\")\n",
        "\n",
        "outline_chain = LLMChain(\n",
        "    llm=llm,\n",
        "    prompt=outline_prompt,\n",
        "    output_key=\"outline\")\n",
        "\n",
        "detail_chain = LLMChain(\n",
        "    llm=llm,\n",
        "    prompt=detail_prompt)\n",
        "\n",
        "#This approach reduces readability and introduces so many confusions in the workful if there are more chained prompts\n",
        "article=detail_chain.run(outline_chain.run(user_input))\n",
        "display(Markdown(article))"
      ],
      "metadata": {
        "colab": {
          "base_uri": "https://localhost:8080/",
          "height": 665
        },
        "id": "XxhnVBZaE-si",
        "outputId": "182f4eeb-2301-4bb1-8998-50f48e4e7bfe"
      },
      "execution_count": null,
      "outputs": [
        {
          "name": "stdout",
          "output_type": "stream",
          "text": [
            "Enter the topic of your article:AI as an escape for junior developers\n"
          ]
        },
        {
          "output_type": "display_data",
          "data": {
            "text/plain": [
              "<IPython.core.display.Markdown object>"
            ],
            "text/markdown": "## AI: Escape Hatch or Trap for Junior Devs?\n\nLet's be honest, starting out as a junior developer can feel like being thrown into the deep end of a pool filled with jargon and expectations. Imposter syndrome whispers in your ear, the workload feels like a tsunami, and the learning curve looks more like a sheer cliff face. You're not alone. Many junior devs struggle with these challenges. But what if there was an escape hatch? Enter Artificial Intelligence.  AI tools are increasingly touted as a game-changer, offering assistance with everything from code generation to debugging. But is AI truly an escape, or a cleverly disguised trap that could hinder your long-term growth?\n\n**The Siren Song of AI Assistance**\n\nThe allure of AI is undeniable. Imagine effortlessly generating boilerplate code, automating repetitive tasks, and even fearlessly exploring new languages or frameworks. AI can be your coding sidekick, whispering suggestions for fixing those pesky bugs that have you tearing your hair out. It can also be your personal tutor, helping you navigate complex codebases, deciphering cryptic documentation, and providing on-the-fly explanations of syntax and functions.  For junior developers grappling with imposter syndrome, AI can be a confidence booster, providing a safety net and accelerating the journey to producing working code.  Suddenly, that cliff face seems a little less daunting.\n\n**The Potential Pitfalls: Beware the Quicksand**\n\nHowever, before you dive headfirst into the world of AI-assisted development, be warned: there are potential pitfalls.  Over-reliance on AI for code generation can lead to a shallow understanding of the underlying logic.  It's like using a calculator without understanding basic arithmetic.  You might get the answer, but you won't grasp the *how* or *why*.  Even more concerning, AI can inadvertently shortcut the crucial process of struggling through challenges, a process that is essential for developing those all-important problem-solving skills.  Debugging AI-generated code can also be a nightmare, as understanding and fixing errors in code you didn't write can lead to even more complex debugging scenarios.\n\nThen there are the ethical considerations.  Using AI-generated code without proper attribution in academic or professional settings can be considered plagiarism.  And finally, becoming overly dependent on AI tools during training can create a disconnect with the expectations of real-world development environments, impacting your job market readiness.  That escape hatch might lead you straight into a quicksand of underdeveloped skills and ethical dilemmas.\n\n**Finding the Balance:  AI as a Scalpel, Not a Sledgehammer**\n\nSo how do we navigate this complex landscape? The key is strategic integration. Think of AI as a scalpel, a precise tool to be used judiciously, not a sledgehammer to brute-force your way through every problem.  Use AI as a learning tool, not a crutch.  Always strive to understand the code it generates and actively learn from it.  Focus on building a strong foundation in fundamental programming principles *before* leaning heavily on AI assistance.  Let AI augment your critical thinking skills, not replace them. And most importantly, embrace collaboration and mentorship.  Seek guidance from senior developers and use AI as a supplement to, not a substitute for, human interaction and learning.\n\n**The Future is Code, Coded Collaboratively**\n\nThe role of AI in software development is constantly evolving.  As junior developers, we must adapt to this changing landscape by embracing a balanced approach to AI integration.  AI can be a powerful ally, but only when used responsibly and strategically. It’s not about escaping the challenges of being a junior developer, but about equipping ourselves with the right tools, both human and artificial, to conquer them.  What are your thoughts on AI's role in the junior developer journey? Share your experiences and perspectives in the comments below – let’s learn from each other!"
          },
          "metadata": {}
        }
      ]
    },
    {
      "cell_type": "code",
      "source": [
        "from re import VERBOSE\n",
        "from langchain.prompts import PromptTemplate\n",
        "from langchain.chains import LLMChain, SequentialChain\n",
        "from langchain_google_genai import ChatGoogleGenerativeAI\n",
        "from google.colab import userdata\n",
        "from IPython.display import Markdown\n",
        "\n",
        "llm = ChatGoogleGenerativeAI(model=\"gemini-1.5-pro\", google_api_key=userdata.get(\"GOOGLE_API_KEY\"), temperature=0.2)\n",
        "\n",
        "topic=input(\"Enter the topic of your article:\")\n",
        "\n",
        "outline_prompt = PromptTemplate(\n",
        "    input_variables=[\"topic\"],\n",
        "    template=\"Generate an outline for an article about {topic}.\",\n",
        "    output_key=\"outline\"\n",
        ")\n",
        "\n",
        "detail_prompt = PromptTemplate(\n",
        "    input_variables=[\"outline\"],\n",
        "    template=\"AS an expert blogger Expand on the following article outline: {outline}\",\n",
        "    output_key=\"article\"\n",
        ")\n",
        "\n",
        "outline_chain = LLMChain(llm=llm, prompt=outline_prompt,output_key=\"outline\")\n",
        "detail_chain = LLMChain(llm=llm, prompt=detail_prompt,output_key=\"article\")\n",
        "\n",
        "detailed_article = SequentialChain(\n",
        "    chains=[outline_chain, detail_chain],\n",
        "    input_variables=[\"topic\"],\n",
        "    #output_variables=[\"outline\",\"article\"],\n",
        "    verbose=True\n",
        ")\n",
        "detailed_article_output=detailed_article(topic)\n",
        "print(detailed_article_output)"
      ],
      "metadata": {
        "colab": {
          "base_uri": "https://localhost:8080/"
        },
        "id": "9tFejaCXJaSL",
        "outputId": "b4456530-fc0c-4873-fe8c-609577ebb544"
      },
      "execution_count": null,
      "outputs": [
        {
          "output_type": "stream",
          "name": "stdout",
          "text": [
            "Enter the topic of your article:AI as escape for Junior devs\n",
            "\n",
            "\n",
            "\u001b[1m> Entering new SequentialChain chain...\u001b[0m\n",
            "\n",
            "\u001b[1m> Finished chain.\u001b[0m\n",
            "{'topic': 'AI as escape for Junior devs', 'article': \"## AI as Escape for Junior Devs: From Shiny Savior to Potential Saboteur\\n\\n**I. Introduction**\\n\\nPicture this: you're a fresh-faced junior developer, bright-eyed and bushy-tailed, finally landed your dream job. But the reality hits hard.  Imposter syndrome whispers insidious doubts in your ear. The mountain of tasks feels insurmountable.  Every line of code feels like a potential catastrophe waiting to happen. The pressure is immense, and the fear of failure is palpable.  In this overwhelming landscape, the allure of AI tools shines like a beacon of hope, promising a quick fix, an escape from the daunting challenges.  While AI can indeed offer temporary relief and some genuine benefits for junior developers, relying on it as a primary coping mechanism can be a dangerous game, hindering long-term growth and creating a dependence that ultimately exacerbates the initial problems.\\n\\n**II. The Siren Song of AI: A Tempting Escape**\\n\\nFor junior developers grappling with the anxieties of a new career, AI tools can seem like a godsend.  They offer a seductive promise of effortless productivity and a shield against the harsh realities of the tech world.\\n\\n* **Conquering Imposter Syndrome:**  AI-powered code generation tools can provide a much-needed confidence boost.  Suddenly, complex tasks that once seemed impossible become achievable.  Autocompletion and code suggestions fill in the gaps in knowledge, creating a sense of competence and control.\\n* **Taming the Workload Beast:**  Deadlines loom large in the fast-paced world of software development. AI can assist with time-consuming tasks like generating boilerplate code, automating repetitive processes, and even debugging, freeing up junior developers to focus on higher-level aspects of the project and reducing the overwhelming pressure to deliver.\\n* **A Safety Net Against Failure:** The fear of making mistakes and facing criticism is a constant companion for many junior developers. AI-powered code review tools and automated testing frameworks can act as a safety net, catching potential errors before they reach production and reducing the risk of public failure.\\n* **Accelerated Learning (The Silver Lining):**  Used correctly, AI can be a powerful learning tool.  AI-powered documentation, code examples, and explanations of best practices can accelerate the learning process and provide valuable insights into complex concepts.\\n\\n**III. The Dark Side of the Algorithm: The Price of Dependence**\\n\\nWhile the initial benefits of AI are undeniable, the long-term consequences of over-reliance can be devastating.  The very tools that offer solace can become shackles, hindering growth and creating a dangerous illusion of competence.\\n\\n* **Stunted Growth:**  By outsourcing critical thinking and problem-solving to AI, junior developers risk bypassing the crucial struggle that fuels true learning and growth.  They become passive consumers of code rather than active creators, hindering the development of essential skills.\\n* **A Superficial Understanding:**  Copying and pasting AI-generated code without understanding its underlying logic creates a fragile foundation of knowledge.  This superficial understanding can lead to significant difficulties when debugging, maintaining, and modifying the codebase, ultimately making the developer less effective.\\n* **The Illusion of Mastery:**  AI can create a false sense of mastery, leading to overconfidence and a dangerous disconnect between perceived skills and actual abilities. This can have disastrous consequences in real-world projects where a deep understanding of the code is crucial for success.\\n* **Navigating Ethical Minefields:**  The use of AI raises ethical concerns, including the potential for plagiarism, copyright infringement, and the unintentional generation of biased or discriminatory code.  Junior developers must be aware of these ethical implications and use AI responsibly.\\n* **The Harsh Reality of the Job Market:**  Companies value problem-solving skills, critical thinking, and a deep understanding of coding principles.  Over-reliance on AI can hinder the development of these essential skills, making junior developers less competitive in the job market.\\n\\n**IV. Striking a Balance: AI as a Partner, Not a Savior**\\n\\nThe key to harnessing the power of AI without succumbing to its pitfalls lies in using it consciously and intentionally as a supplementary tool, not a replacement for fundamental skills development.\\n\\n* **Mindful Integration:**  Junior developers should approach AI with a discerning eye, using it strategically to enhance their learning and productivity, not as a crutch to avoid challenging tasks.\\n* **Deconstructing the Black Box:**  Instead of blindly accepting AI-generated code, junior developers should actively dissect and understand its logic, ensuring they can explain and maintain the code they produce.\\n* **Embracing the Struggle:**  The challenges and frustrations of learning to code are not obstacles to be avoided but essential stepping stones on the path to mastery.  Junior developers should embrace the struggle, knowing that it is through these challenges that they truly grow.\\n* **Seeking Guidance and Collaboration:**  Mentorship and collaboration are invaluable resources for junior developers.  Seeking guidance from senior developers and engaging in collaborative learning environments can provide the support and feedback needed to navigate the complexities of software development.\\n\\n**V. Conclusion**\\n\\nAI has the potential to be a powerful ally for junior developers, but it's a double-edged sword.  Over-reliance can lead to a dangerous dependence, hindering growth and creating a false sense of security.  By using AI responsibly, focusing on developing core skills, and embracing the challenges of the learning process, junior developers can not only survive but thrive in their careers, contributing meaningfully to the ever-evolving landscape of the tech industry.  What are your experiences with AI in software development? Share your thoughts and perspectives in the comments below – let's learn and grow together.\"}\n"
          ]
        }
      ]
    },
    {
      "cell_type": "code",
      "source": [
        "display(Markdown(detailed_article_output[\"article\"]))"
      ],
      "metadata": {
        "colab": {
          "base_uri": "https://localhost:8080/",
          "height": 995
        },
        "id": "rQyxK4CqSp_X",
        "outputId": "d567269d-15b5-4a5f-af54-976da27af1b6"
      },
      "execution_count": null,
      "outputs": [
        {
          "output_type": "display_data",
          "data": {
            "text/plain": [
              "<IPython.core.display.Markdown object>"
            ],
            "text/markdown": "## AI as Escape for Junior Devs: From Shiny Savior to Potential Saboteur\n\n**I. Introduction**\n\nPicture this: you're a fresh-faced junior developer, bright-eyed and bushy-tailed, finally landed your dream job. But the reality hits hard.  Imposter syndrome whispers insidious doubts in your ear. The mountain of tasks feels insurmountable.  Every line of code feels like a potential catastrophe waiting to happen. The pressure is immense, and the fear of failure is palpable.  In this overwhelming landscape, the allure of AI tools shines like a beacon of hope, promising a quick fix, an escape from the daunting challenges.  While AI can indeed offer temporary relief and some genuine benefits for junior developers, relying on it as a primary coping mechanism can be a dangerous game, hindering long-term growth and creating a dependence that ultimately exacerbates the initial problems.\n\n**II. The Siren Song of AI: A Tempting Escape**\n\nFor junior developers grappling with the anxieties of a new career, AI tools can seem like a godsend.  They offer a seductive promise of effortless productivity and a shield against the harsh realities of the tech world.\n\n* **Conquering Imposter Syndrome:**  AI-powered code generation tools can provide a much-needed confidence boost.  Suddenly, complex tasks that once seemed impossible become achievable.  Autocompletion and code suggestions fill in the gaps in knowledge, creating a sense of competence and control.\n* **Taming the Workload Beast:**  Deadlines loom large in the fast-paced world of software development. AI can assist with time-consuming tasks like generating boilerplate code, automating repetitive processes, and even debugging, freeing up junior developers to focus on higher-level aspects of the project and reducing the overwhelming pressure to deliver.\n* **A Safety Net Against Failure:** The fear of making mistakes and facing criticism is a constant companion for many junior developers. AI-powered code review tools and automated testing frameworks can act as a safety net, catching potential errors before they reach production and reducing the risk of public failure.\n* **Accelerated Learning (The Silver Lining):**  Used correctly, AI can be a powerful learning tool.  AI-powered documentation, code examples, and explanations of best practices can accelerate the learning process and provide valuable insights into complex concepts.\n\n**III. The Dark Side of the Algorithm: The Price of Dependence**\n\nWhile the initial benefits of AI are undeniable, the long-term consequences of over-reliance can be devastating.  The very tools that offer solace can become shackles, hindering growth and creating a dangerous illusion of competence.\n\n* **Stunted Growth:**  By outsourcing critical thinking and problem-solving to AI, junior developers risk bypassing the crucial struggle that fuels true learning and growth.  They become passive consumers of code rather than active creators, hindering the development of essential skills.\n* **A Superficial Understanding:**  Copying and pasting AI-generated code without understanding its underlying logic creates a fragile foundation of knowledge.  This superficial understanding can lead to significant difficulties when debugging, maintaining, and modifying the codebase, ultimately making the developer less effective.\n* **The Illusion of Mastery:**  AI can create a false sense of mastery, leading to overconfidence and a dangerous disconnect between perceived skills and actual abilities. This can have disastrous consequences in real-world projects where a deep understanding of the code is crucial for success.\n* **Navigating Ethical Minefields:**  The use of AI raises ethical concerns, including the potential for plagiarism, copyright infringement, and the unintentional generation of biased or discriminatory code.  Junior developers must be aware of these ethical implications and use AI responsibly.\n* **The Harsh Reality of the Job Market:**  Companies value problem-solving skills, critical thinking, and a deep understanding of coding principles.  Over-reliance on AI can hinder the development of these essential skills, making junior developers less competitive in the job market.\n\n**IV. Striking a Balance: AI as a Partner, Not a Savior**\n\nThe key to harnessing the power of AI without succumbing to its pitfalls lies in using it consciously and intentionally as a supplementary tool, not a replacement for fundamental skills development.\n\n* **Mindful Integration:**  Junior developers should approach AI with a discerning eye, using it strategically to enhance their learning and productivity, not as a crutch to avoid challenging tasks.\n* **Deconstructing the Black Box:**  Instead of blindly accepting AI-generated code, junior developers should actively dissect and understand its logic, ensuring they can explain and maintain the code they produce.\n* **Embracing the Struggle:**  The challenges and frustrations of learning to code are not obstacles to be avoided but essential stepping stones on the path to mastery.  Junior developers should embrace the struggle, knowing that it is through these challenges that they truly grow.\n* **Seeking Guidance and Collaboration:**  Mentorship and collaboration are invaluable resources for junior developers.  Seeking guidance from senior developers and engaging in collaborative learning environments can provide the support and feedback needed to navigate the complexities of software development.\n\n**V. Conclusion**\n\nAI has the potential to be a powerful ally for junior developers, but it's a double-edged sword.  Over-reliance can lead to a dangerous dependence, hindering growth and creating a false sense of security.  By using AI responsibly, focusing on developing core skills, and embracing the challenges of the learning process, junior developers can not only survive but thrive in their careers, contributing meaningfully to the ever-evolving landscape of the tech industry.  What are your experiences with AI in software development? Share your thoughts and perspectives in the comments below – let's learn and grow together."
          },
          "metadata": {}
        }
      ]
    },
    {
      "cell_type": "code",
      "source": [
        "from langchain_google_genai import ChatGoogleGenerativeAI\n",
        "from langchain.prompts import PromptTemplate\n",
        "from langchain.chains import LLMChain\n",
        "from langchain.schema.runnable import RunnableParallel\n",
        "from google.colab import userdata\n",
        "\n",
        "llm = ChatGoogleGenerativeAI(model=\"gemini-1.5-pro\", google_api_key=userdata.get('GOOGLE_API_KEY'))\n",
        "\n",
        "prompt1 = PromptTemplate(\n",
        "    input_variables=[\"input_text\"],\n",
        "    template=\"Summarize the following text: {input_text}\"\n",
        ")\n",
        "\n",
        "prompt2 = PromptTemplate(\n",
        "    input_variables=[\"input_text\"],\n",
        "    template=\"Translate the following text to French: {input_text}\"\n",
        ")\n",
        "\n",
        "# LLM Chains\n",
        "chain1,chain2 = LLMChain(llm=llm, prompt=prompt1),LLMChain(llm=llm, prompt=prompt2)\n",
        "\n",
        "# Parallel Chain Execution\n",
        "parallel_chain = RunnableParallel(\n",
        "    summary=chain1,\n",
        "    translation=chain2\n",
        ")\n",
        "\n",
        "# Example Input\n",
        "input_data = {\"input_text\": \"Hello, this is a test. I hope you are having a good day.\"}\n",
        "results = parallel_chain.invoke(input_data)\n",
        "\n",
        "print(\"Summary:\",results[\"summary\"][\"text\"])  # Access the summary text)\n",
        "print(\"\\nTranslation:\",results[\"translation\"][\"text\"]) # Access the translation text."
      ],
      "metadata": {
        "colab": {
          "base_uri": "https://localhost:8080/"
        },
        "id": "M3nFLRI4TuU-",
        "outputId": "66dca328-6884-48d0-9fc5-5a182d30bb36"
      },
      "execution_count": null,
      "outputs": [
        {
          "output_type": "stream",
          "name": "stdout",
          "text": [
            "Summary: This is a test message.\n",
            "\n",
            "Translation: Bonjour, ceci est un test. J'espère que vous passez une bonne journée.\n"
          ]
        }
      ]
    },
    {
      "cell_type": "code",
      "source": [
        "from langchain_google_genai import ChatGoogleGenerativeAI\n",
        "from langchain.prompts import PromptTemplate\n",
        "from langchain.chains import LLMChain\n",
        "from langchain.schema.runnable import RunnableParallel, RunnableSequence\n",
        "from google.colab import userdata\n",
        "\n",
        "llm = ChatGoogleGenerativeAI(model=\"gemini-1.5-pro\", google_api_key=userdata.get('GOOGLE_API_KEY'),temperature=0.9)\n",
        "\n",
        "# Prompt Templates\n",
        "article_prompt = PromptTemplate(input_variables=[\"topic\"],template=\"Write a short article about: {topic}\")\n",
        "summary_prompt = PromptTemplate(input_variables=[\"article\"],template=\"Summarize the following article: {article}\")\n",
        "translation_prompt = PromptTemplate(input_variables=[\"article\", \"language\"],template=\"Translate the following article to {language}: {article}\")\n",
        "\n",
        "article_chain = LLMChain(llm=llm, prompt=article_prompt, output_key=\"article\")\n",
        "summary_chain = LLMChain(llm=llm, prompt=summary_prompt, output_key=\"summary\")\n",
        "translation_chain = LLMChain(llm=llm, prompt=translation_prompt, output_key=\"translation\")\n",
        "\n",
        "# Parallel Chain\n",
        "parallel_chain = RunnableParallel(\n",
        "    summary=RunnableSequence(lambda x: {\"article\": article}, summary_chain),\n",
        "    translation=RunnableSequence(lambda x: {\"article\": article, \"language\": \"Hindi\"}, translation_chain))\n",
        "\n",
        "# Hybrid Chain\n",
        "hybrid_chain = RunnableSequence(article_chain,parallel_chain)\n",
        "\n",
        "input_data = {\"topic\": \"The future of artificial intelligence\"}\n",
        "\n",
        "# Execute Hybrid Chain\n",
        "results = hybrid_chain.invoke(input_data)\n",
        "# Print Results\n",
        "print(results)"
      ],
      "metadata": {
        "colab": {
          "base_uri": "https://localhost:8080/"
        },
        "id": "2HU93vS5WQ22",
        "outputId": "3c9082f2-1480-43b1-fd0a-4792828dac60"
      },
      "execution_count": null,
      "outputs": [
        {
          "output_type": "stream",
          "name": "stdout",
          "text": [
            "{'summary': {'article': \"## AI: Escape Hatch or Trap for Junior Devs?\\n\\nLet's be honest, starting out as a junior developer can feel like being thrown into the deep end of a pool filled with jargon and expectations. Imposter syndrome whispers in your ear, the workload feels like a tsunami, and the learning curve looks more like a sheer cliff face. You're not alone. Many junior devs struggle with these challenges. But what if there was an escape hatch? Enter Artificial Intelligence.  AI tools are increasingly touted as a game-changer, offering assistance with everything from code generation to debugging. But is AI truly an escape, or a cleverly disguised trap that could hinder your long-term growth?\\n\\n**The Siren Song of AI Assistance**\\n\\nThe allure of AI is undeniable. Imagine effortlessly generating boilerplate code, automating repetitive tasks, and even fearlessly exploring new languages or frameworks. AI can be your coding sidekick, whispering suggestions for fixing those pesky bugs that have you tearing your hair out. It can also be your personal tutor, helping you navigate complex codebases, deciphering cryptic documentation, and providing on-the-fly explanations of syntax and functions.  For junior developers grappling with imposter syndrome, AI can be a confidence booster, providing a safety net and accelerating the journey to producing working code.  Suddenly, that cliff face seems a little less daunting.\\n\\n**The Potential Pitfalls: Beware the Quicksand**\\n\\nHowever, before you dive headfirst into the world of AI-assisted development, be warned: there are potential pitfalls.  Over-reliance on AI for code generation can lead to a shallow understanding of the underlying logic.  It's like using a calculator without understanding basic arithmetic.  You might get the answer, but you won't grasp the *how* or *why*.  Even more concerning, AI can inadvertently shortcut the crucial process of struggling through challenges, a process that is essential for developing those all-important problem-solving skills.  Debugging AI-generated code can also be a nightmare, as understanding and fixing errors in code you didn't write can lead to even more complex debugging scenarios.\\n\\nThen there are the ethical considerations.  Using AI-generated code without proper attribution in academic or professional settings can be considered plagiarism.  And finally, becoming overly dependent on AI tools during training can create a disconnect with the expectations of real-world development environments, impacting your job market readiness.  That escape hatch might lead you straight into a quicksand of underdeveloped skills and ethical dilemmas.\\n\\n**Finding the Balance:  AI as a Scalpel, Not a Sledgehammer**\\n\\nSo how do we navigate this complex landscape? The key is strategic integration. Think of AI as a scalpel, a precise tool to be used judiciously, not a sledgehammer to brute-force your way through every problem.  Use AI as a learning tool, not a crutch.  Always strive to understand the code it generates and actively learn from it.  Focus on building a strong foundation in fundamental programming principles *before* leaning heavily on AI assistance.  Let AI augment your critical thinking skills, not replace them. And most importantly, embrace collaboration and mentorship.  Seek guidance from senior developers and use AI as a supplement to, not a substitute for, human interaction and learning.\\n\\n**The Future is Code, Coded Collaboratively**\\n\\nThe role of AI in software development is constantly evolving.  As junior developers, we must adapt to this changing landscape by embracing a balanced approach to AI integration.  AI can be a powerful ally, but only when used responsibly and strategically. It’s not about escaping the challenges of being a junior developer, but about equipping ourselves with the right tools, both human and artificial, to conquer them.  What are your thoughts on AI's role in the junior developer journey? Share your experiences and perspectives in the comments below – let’s learn from each other!\", 'summary': 'This article discusses the double-edged sword of AI for junior developers. While AI tools offer tempting shortcuts for code generation, debugging, and learning, over-reliance can hinder the development of crucial problem-solving skills and create ethical dilemmas. The article warns against treating AI as a crutch, instead advocating for its use as a precise tool to augment learning and productivity.  Junior developers should prioritize foundational knowledge and human mentorship, using AI strategically to understand code, explore new technologies, and boost confidence, ultimately preparing themselves for real-world development environments. The article concludes by encouraging a balanced approach to AI integration and collaborative learning within the developer community.'}, 'translation': {'article': \"## AI: Escape Hatch or Trap for Junior Devs?\\n\\nLet's be honest, starting out as a junior developer can feel like being thrown into the deep end of a pool filled with jargon and expectations. Imposter syndrome whispers in your ear, the workload feels like a tsunami, and the learning curve looks more like a sheer cliff face. You're not alone. Many junior devs struggle with these challenges. But what if there was an escape hatch? Enter Artificial Intelligence.  AI tools are increasingly touted as a game-changer, offering assistance with everything from code generation to debugging. But is AI truly an escape, or a cleverly disguised trap that could hinder your long-term growth?\\n\\n**The Siren Song of AI Assistance**\\n\\nThe allure of AI is undeniable. Imagine effortlessly generating boilerplate code, automating repetitive tasks, and even fearlessly exploring new languages or frameworks. AI can be your coding sidekick, whispering suggestions for fixing those pesky bugs that have you tearing your hair out. It can also be your personal tutor, helping you navigate complex codebases, deciphering cryptic documentation, and providing on-the-fly explanations of syntax and functions.  For junior developers grappling with imposter syndrome, AI can be a confidence booster, providing a safety net and accelerating the journey to producing working code.  Suddenly, that cliff face seems a little less daunting.\\n\\n**The Potential Pitfalls: Beware the Quicksand**\\n\\nHowever, before you dive headfirst into the world of AI-assisted development, be warned: there are potential pitfalls.  Over-reliance on AI for code generation can lead to a shallow understanding of the underlying logic.  It's like using a calculator without understanding basic arithmetic.  You might get the answer, but you won't grasp the *how* or *why*.  Even more concerning, AI can inadvertently shortcut the crucial process of struggling through challenges, a process that is essential for developing those all-important problem-solving skills.  Debugging AI-generated code can also be a nightmare, as understanding and fixing errors in code you didn't write can lead to even more complex debugging scenarios.\\n\\nThen there are the ethical considerations.  Using AI-generated code without proper attribution in academic or professional settings can be considered plagiarism.  And finally, becoming overly dependent on AI tools during training can create a disconnect with the expectations of real-world development environments, impacting your job market readiness.  That escape hatch might lead you straight into a quicksand of underdeveloped skills and ethical dilemmas.\\n\\n**Finding the Balance:  AI as a Scalpel, Not a Sledgehammer**\\n\\nSo how do we navigate this complex landscape? The key is strategic integration. Think of AI as a scalpel, a precise tool to be used judiciously, not a sledgehammer to brute-force your way through every problem.  Use AI as a learning tool, not a crutch.  Always strive to understand the code it generates and actively learn from it.  Focus on building a strong foundation in fundamental programming principles *before* leaning heavily on AI assistance.  Let AI augment your critical thinking skills, not replace them. And most importantly, embrace collaboration and mentorship.  Seek guidance from senior developers and use AI as a supplement to, not a substitute for, human interaction and learning.\\n\\n**The Future is Code, Coded Collaboratively**\\n\\nThe role of AI in software development is constantly evolving.  As junior developers, we must adapt to this changing landscape by embracing a balanced approach to AI integration.  AI can be a powerful ally, but only when used responsibly and strategically. It’s not about escaping the challenges of being a junior developer, but about equipping ourselves with the right tools, both human and artificial, to conquer them.  What are your thoughts on AI's role in the junior developer journey? Share your experiences and perspectives in the comments below – let’s learn from each other!\", 'language': 'Hindi', 'translation': '## AI: जूनियर डेवलपर्स के लिए राहत या जाल?\\n\\nईमानदारी से कहें तो, एक जूनियर डेवलपर के रूप में शुरुआत करना किसी ऐसे गहरे कुंड में कूदने जैसा लग सकता है जो तकनीकी शब्दावली और उम्मीदों से भरा हो।  इम्पोस्टर सिंड्रोम आपके कान में फुसफुसाता है, काम का बोझ सुनामी जैसा लगता है, और सीखने का वक्र एक खड़ी चट्टान की तरह दिखता है। आप अकेले नहीं हैं। कई जूनियर डेवलपर्स इन चुनौतियों से जूझते हैं। लेकिन क्या होगा अगर कोई राहत का रास्ता हो?  यहां आता है आर्टिफिशियल इंटेलिजेंस।  AI टूल्स को गेम-चेंजर के रूप में तेजी से प्रचारित किया जा रहा है, जो कोड जनरेशन से लेकर डिबगिंग तक हर चीज में सहायता प्रदान करते हैं। लेकिन क्या AI वास्तव में एक राहत है, या एक चालाकी से छिपा हुआ जाल है जो आपके दीर्घकालिक विकास में बाधा डाल सकता है?\\n\\n**AI सहायता का मोहक गीत**\\n\\nAI का आकर्षण निर्विवाद है। कल्पना कीजिए कि आप सहजता से बॉयलरप्लेट कोड जेनरेट कर रहे हैं, दोहराए जाने वाले कार्यों को स्वचालित कर रहे हैं, और यहां तक कि निडर होकर नई भाषाओं या फ्रेमवर्क का पता लगा रहे हैं। AI आपका कोडिंग साथी हो सकता है, उन pesky बग्स को ठीक करने के लिए सुझाव दे सकता है जिनसे आपके बाल खड़े हो रहे हैं। यह आपका निजी ट्यूटर भी हो सकता है, जो आपको जटिल कोडबेस को नेविगेट करने, रहस्यमय दस्तावेज़ों को समझने और सिंटैक्स और कार्यों की तुरंत व्याख्या प्रदान करने में मदद करता है। इम्पोस्टर सिंड्रोम से जूझ रहे जूनियर डेवलपर्स के लिए, AI आत्मविश्वास बढ़ाने वाला हो सकता है, एक सुरक्षा जाल प्रदान करता है और काम करने वाले कोड के निर्माण की यात्रा को तेज करता है। अचानक, वह खड़ी चट्टान थोड़ी कम चुनौतीपूर्ण लगती है।\\n\\n**संभावित नुकसान: दलदल से सावधान**\\n\\nहालांकि, इससे पहले कि आप AI-सहायता प्राप्त विकास की दुनिया में सिर झुकाएं, सावधान रहें: संभावित नुकसान हैं। कोड जनरेशन के लिए AI पर अधिक निर्भरता अंतर्निहित तर्क की उथली समझ पैदा कर सकती है। यह बुनियादी अंकगणित को समझे बिना कैलकुलेटर का उपयोग करने जैसा है। आपको उत्तर मिल सकता है, लेकिन आप *कैसे* या *क्यों* नहीं समझ पाएंगे। इससे भी अधिक चिंता की बात यह है कि AI अनजाने में चुनौतियों से जूझने की महत्वपूर्ण प्रक्रिया को छोटा कर सकता है, एक ऐसी प्रक्रिया जो उन सभी महत्वपूर्ण समस्या-समाधान कौशल को विकसित करने के लिए आवश्यक है। AI-जनित कोड को डीबग करना भी एक बुरा सपना हो सकता है, क्योंकि आपके द्वारा नहीं लिखे गए कोड में त्रुटियों को समझने और ठीक करने से और भी जटिल डीबगिंग परिदृश्य हो सकते हैं।\\n\\nफिर नैतिक विचार हैं। शैक्षणिक या व्यावसायिक सेटिंग्स में उचित श्रेय के बिना AI-जनित कोड का उपयोग करना साहित्यिक चोरी माना जा सकता है। और अंत में, प्रशिक्षण के दौरान AI टूल्स पर अत्यधिक निर्भर होने से वास्तविक दुनिया के विकास के वातावरण की अपेक्षाओं के साथ एक डिस्कनेक्ट हो सकता है, जिससे आपकी नौकरी बाजार की तैयारी प्रभावित हो सकती है। वह राहत का रास्ता आपको अविकसित कौशल और नैतिक दुविधाओं के दलदल में सीधे ले जा सकता है।\\n\\n**संतुलन बनाना: AI एक स्केलपेल के रूप में, स्लेजहैमर नहीं**\\n\\nतो हम इस जटिल परिदृश्य को कैसे नेविगेट करते हैं? कुंजी रणनीतिक एकीकरण है। AI को एक स्केलपेल के रूप में सोचें, एक सटीक उपकरण जिसे विवेकपूर्ण तरीके से उपयोग किया जाना चाहिए, न कि हर समस्या के माध्यम से अपना रास्ता बनाने के लिए एक स्लेजहैमर। AI का उपयोग एक शिक्षण उपकरण के रूप में करें, बैसाखी के रूप में नहीं। हमेशा इसके द्वारा उत्पन्न कोड को समझने का प्रयास करें और इससे सक्रिय रूप से सीखें। AI सहायता पर बहुत अधिक निर्भर होने से *पहले* बुनियादी प्रोग्रामिंग सिद्धांतों में एक मजबूत नींव बनाने पर ध्यान केंद्रित करें। AI को अपने महत्वपूर्ण सोच कौशल को बढ़ाने दें, उन्हें प्रतिस्थापित न करें। और सबसे महत्वपूर्ण बात, सहयोग और मार्गदर्शन को अपनाएं। वरिष्ठ डेवलपर्स से मार्गदर्शन प्राप्त करें और AI का उपयोग मानवीय संपर्क और सीखने के पूरक के रूप में करें, न कि उसके विकल्प के रूप में।\\n\\n**भविष्य कोड है, सहयोगात्मक रूप से कोडित**\\n\\nसॉफ्टवेयर विकास में AI की भूमिका लगातार विकसित हो रही है। जूनियर डेवलपर्स के रूप में, हमें AI एकीकरण के लिए एक संतुलित दृष्टिकोण अपनाकर इस बदलते परिदृश्य के अनुकूल होना चाहिए। AI एक शक्तिशाली सहयोगी हो सकता है, लेकिन केवल तभी जब जिम्मेदारी से और रणनीतिक रूप से उपयोग किया जाए। यह एक जूनियर डेवलपर होने की चुनौतियों से बचने के बारे में नहीं है, बल्कि खुद को उन पर विजय पाने के लिए सही उपकरणों, मानव और कृत्रिम दोनों से लैस करने के बारे में है। जूनियर डेवलपर यात्रा में AI की भूमिका पर आपके क्या विचार हैं? नीचे टिप्पणियों में अपने अनुभव और दृष्टिकोण साझा करें - आइए एक-दूसरे से सीखें!'}}\n"
          ]
        }
      ]
    },
    {
      "cell_type": "code",
      "source": [
        "print(results.keys())"
      ],
      "metadata": {
        "colab": {
          "base_uri": "https://localhost:8080/"
        },
        "id": "ftrVEKk3bBmw",
        "outputId": "96cd723d-005f-49a2-dd04-a545d3ee5309"
      },
      "execution_count": null,
      "outputs": [
        {
          "output_type": "stream",
          "name": "stdout",
          "text": [
            "dict_keys(['summary', 'translation'])\n"
          ]
        }
      ]
    },
    {
      "cell_type": "code",
      "source": [
        "!pip install langchain_community"
      ],
      "metadata": {
        "colab": {
          "base_uri": "https://localhost:8080/"
        },
        "id": "G_6MBCvUkU9Z",
        "outputId": "25885956-f1c1-4d7e-fbd4-d3e074307110"
      },
      "execution_count": 7,
      "outputs": [
        {
          "output_type": "stream",
          "name": "stdout",
          "text": [
            "Collecting langchain_community\n",
            "  Downloading langchain_community-0.3.19-py3-none-any.whl.metadata (2.4 kB)\n",
            "Requirement already satisfied: langchain-core<1.0.0,>=0.3.41 in /usr/local/lib/python3.11/dist-packages (from langchain_community) (0.3.44)\n",
            "Requirement already satisfied: langchain<1.0.0,>=0.3.20 in /usr/local/lib/python3.11/dist-packages (from langchain_community) (0.3.20)\n",
            "Requirement already satisfied: SQLAlchemy<3,>=1.4 in /usr/local/lib/python3.11/dist-packages (from langchain_community) (2.0.39)\n",
            "Requirement already satisfied: requests<3,>=2 in /usr/local/lib/python3.11/dist-packages (from langchain_community) (2.32.3)\n",
            "Requirement already satisfied: PyYAML>=5.3 in /usr/local/lib/python3.11/dist-packages (from langchain_community) (6.0.2)\n",
            "Requirement already satisfied: aiohttp<4.0.0,>=3.8.3 in /usr/local/lib/python3.11/dist-packages (from langchain_community) (3.11.13)\n",
            "Requirement already satisfied: tenacity!=8.4.0,<10,>=8.1.0 in /usr/local/lib/python3.11/dist-packages (from langchain_community) (9.0.0)\n",
            "Collecting dataclasses-json<0.7,>=0.5.7 (from langchain_community)\n",
            "  Downloading dataclasses_json-0.6.7-py3-none-any.whl.metadata (25 kB)\n",
            "Collecting pydantic-settings<3.0.0,>=2.4.0 (from langchain_community)\n",
            "  Downloading pydantic_settings-2.8.1-py3-none-any.whl.metadata (3.5 kB)\n",
            "Requirement already satisfied: langsmith<0.4,>=0.1.125 in /usr/local/lib/python3.11/dist-packages (from langchain_community) (0.3.13)\n",
            "Collecting httpx-sse<1.0.0,>=0.4.0 (from langchain_community)\n",
            "  Downloading httpx_sse-0.4.0-py3-none-any.whl.metadata (9.0 kB)\n",
            "Requirement already satisfied: numpy<3,>=1.26.2 in /usr/local/lib/python3.11/dist-packages (from langchain_community) (1.26.4)\n",
            "Requirement already satisfied: aiohappyeyeballs>=2.3.0 in /usr/local/lib/python3.11/dist-packages (from aiohttp<4.0.0,>=3.8.3->langchain_community) (2.6.1)\n",
            "Requirement already satisfied: aiosignal>=1.1.2 in /usr/local/lib/python3.11/dist-packages (from aiohttp<4.0.0,>=3.8.3->langchain_community) (1.3.2)\n",
            "Requirement already satisfied: attrs>=17.3.0 in /usr/local/lib/python3.11/dist-packages (from aiohttp<4.0.0,>=3.8.3->langchain_community) (25.2.0)\n",
            "Requirement already satisfied: frozenlist>=1.1.1 in /usr/local/lib/python3.11/dist-packages (from aiohttp<4.0.0,>=3.8.3->langchain_community) (1.5.0)\n",
            "Requirement already satisfied: multidict<7.0,>=4.5 in /usr/local/lib/python3.11/dist-packages (from aiohttp<4.0.0,>=3.8.3->langchain_community) (6.1.0)\n",
            "Requirement already satisfied: propcache>=0.2.0 in /usr/local/lib/python3.11/dist-packages (from aiohttp<4.0.0,>=3.8.3->langchain_community) (0.3.0)\n",
            "Requirement already satisfied: yarl<2.0,>=1.17.0 in /usr/local/lib/python3.11/dist-packages (from aiohttp<4.0.0,>=3.8.3->langchain_community) (1.18.3)\n",
            "Collecting marshmallow<4.0.0,>=3.18.0 (from dataclasses-json<0.7,>=0.5.7->langchain_community)\n",
            "  Downloading marshmallow-3.26.1-py3-none-any.whl.metadata (7.3 kB)\n",
            "Collecting typing-inspect<1,>=0.4.0 (from dataclasses-json<0.7,>=0.5.7->langchain_community)\n",
            "  Downloading typing_inspect-0.9.0-py3-none-any.whl.metadata (1.5 kB)\n",
            "Requirement already satisfied: langchain-text-splitters<1.0.0,>=0.3.6 in /usr/local/lib/python3.11/dist-packages (from langchain<1.0.0,>=0.3.20->langchain_community) (0.3.6)\n",
            "Requirement already satisfied: pydantic<3.0.0,>=2.7.4 in /usr/local/lib/python3.11/dist-packages (from langchain<1.0.0,>=0.3.20->langchain_community) (2.10.6)\n",
            "Requirement already satisfied: jsonpatch<2.0,>=1.33 in /usr/local/lib/python3.11/dist-packages (from langchain-core<1.0.0,>=0.3.41->langchain_community) (1.33)\n",
            "Requirement already satisfied: packaging<25,>=23.2 in /usr/local/lib/python3.11/dist-packages (from langchain-core<1.0.0,>=0.3.41->langchain_community) (24.2)\n",
            "Requirement already satisfied: typing-extensions>=4.7 in /usr/local/lib/python3.11/dist-packages (from langchain-core<1.0.0,>=0.3.41->langchain_community) (4.12.2)\n",
            "Requirement already satisfied: httpx<1,>=0.23.0 in /usr/local/lib/python3.11/dist-packages (from langsmith<0.4,>=0.1.125->langchain_community) (0.28.1)\n",
            "Requirement already satisfied: orjson<4.0.0,>=3.9.14 in /usr/local/lib/python3.11/dist-packages (from langsmith<0.4,>=0.1.125->langchain_community) (3.10.15)\n",
            "Requirement already satisfied: requests-toolbelt<2.0.0,>=1.0.0 in /usr/local/lib/python3.11/dist-packages (from langsmith<0.4,>=0.1.125->langchain_community) (1.0.0)\n",
            "Requirement already satisfied: zstandard<0.24.0,>=0.23.0 in /usr/local/lib/python3.11/dist-packages (from langsmith<0.4,>=0.1.125->langchain_community) (0.23.0)\n",
            "Collecting python-dotenv>=0.21.0 (from pydantic-settings<3.0.0,>=2.4.0->langchain_community)\n",
            "  Downloading python_dotenv-1.0.1-py3-none-any.whl.metadata (23 kB)\n",
            "Requirement already satisfied: charset-normalizer<4,>=2 in /usr/local/lib/python3.11/dist-packages (from requests<3,>=2->langchain_community) (3.4.1)\n",
            "Requirement already satisfied: idna<4,>=2.5 in /usr/local/lib/python3.11/dist-packages (from requests<3,>=2->langchain_community) (3.10)\n",
            "Requirement already satisfied: urllib3<3,>=1.21.1 in /usr/local/lib/python3.11/dist-packages (from requests<3,>=2->langchain_community) (2.3.0)\n",
            "Requirement already satisfied: certifi>=2017.4.17 in /usr/local/lib/python3.11/dist-packages (from requests<3,>=2->langchain_community) (2025.1.31)\n",
            "Requirement already satisfied: greenlet!=0.4.17 in /usr/local/lib/python3.11/dist-packages (from SQLAlchemy<3,>=1.4->langchain_community) (3.1.1)\n",
            "Requirement already satisfied: anyio in /usr/local/lib/python3.11/dist-packages (from httpx<1,>=0.23.0->langsmith<0.4,>=0.1.125->langchain_community) (3.7.1)\n",
            "Requirement already satisfied: httpcore==1.* in /usr/local/lib/python3.11/dist-packages (from httpx<1,>=0.23.0->langsmith<0.4,>=0.1.125->langchain_community) (1.0.7)\n",
            "Requirement already satisfied: h11<0.15,>=0.13 in /usr/local/lib/python3.11/dist-packages (from httpcore==1.*->httpx<1,>=0.23.0->langsmith<0.4,>=0.1.125->langchain_community) (0.14.0)\n",
            "Requirement already satisfied: jsonpointer>=1.9 in /usr/local/lib/python3.11/dist-packages (from jsonpatch<2.0,>=1.33->langchain-core<1.0.0,>=0.3.41->langchain_community) (3.0.0)\n",
            "Requirement already satisfied: annotated-types>=0.6.0 in /usr/local/lib/python3.11/dist-packages (from pydantic<3.0.0,>=2.7.4->langchain<1.0.0,>=0.3.20->langchain_community) (0.7.0)\n",
            "Requirement already satisfied: pydantic-core==2.27.2 in /usr/local/lib/python3.11/dist-packages (from pydantic<3.0.0,>=2.7.4->langchain<1.0.0,>=0.3.20->langchain_community) (2.27.2)\n",
            "Collecting mypy-extensions>=0.3.0 (from typing-inspect<1,>=0.4.0->dataclasses-json<0.7,>=0.5.7->langchain_community)\n",
            "  Downloading mypy_extensions-1.0.0-py3-none-any.whl.metadata (1.1 kB)\n",
            "Requirement already satisfied: sniffio>=1.1 in /usr/local/lib/python3.11/dist-packages (from anyio->httpx<1,>=0.23.0->langsmith<0.4,>=0.1.125->langchain_community) (1.3.1)\n",
            "Downloading langchain_community-0.3.19-py3-none-any.whl (2.5 MB)\n",
            "\u001b[2K   \u001b[90m━━━━━━━━━━━━━━━━━━━━━━━━━━━━━━━━━━━━━━━━\u001b[0m \u001b[32m2.5/2.5 MB\u001b[0m \u001b[31m37.6 MB/s\u001b[0m eta \u001b[36m0:00:00\u001b[0m\n",
            "\u001b[?25hDownloading dataclasses_json-0.6.7-py3-none-any.whl (28 kB)\n",
            "Downloading httpx_sse-0.4.0-py3-none-any.whl (7.8 kB)\n",
            "Downloading pydantic_settings-2.8.1-py3-none-any.whl (30 kB)\n",
            "Downloading marshmallow-3.26.1-py3-none-any.whl (50 kB)\n",
            "\u001b[2K   \u001b[90m━━━━━━━━━━━━━━━━━━━━━━━━━━━━━━━━━━━━━━━━\u001b[0m \u001b[32m50.9/50.9 kB\u001b[0m \u001b[31m3.7 MB/s\u001b[0m eta \u001b[36m0:00:00\u001b[0m\n",
            "\u001b[?25hDownloading python_dotenv-1.0.1-py3-none-any.whl (19 kB)\n",
            "Downloading typing_inspect-0.9.0-py3-none-any.whl (8.8 kB)\n",
            "Downloading mypy_extensions-1.0.0-py3-none-any.whl (4.7 kB)\n",
            "Installing collected packages: python-dotenv, mypy-extensions, marshmallow, httpx-sse, typing-inspect, pydantic-settings, dataclasses-json, langchain_community\n",
            "Successfully installed dataclasses-json-0.6.7 httpx-sse-0.4.0 langchain_community-0.3.19 marshmallow-3.26.1 mypy-extensions-1.0.0 pydantic-settings-2.8.1 python-dotenv-1.0.1 typing-inspect-0.9.0\n"
          ]
        }
      ]
    },
    {
      "cell_type": "code",
      "source": [
        "from langchain.prompts import PromptTemplate\n",
        "\n",
        "template = \"This is a {variable1} template with {variable2}.\"\n",
        "prompt = PromptTemplate(input_variables=[\"variable1\", \"variable2\"], template=template)\n",
        "\n",
        "# Case 1: All variables present\n",
        "formatted_prompt1 = prompt.format(variable1=\"test\", variable2=\"example\")\n",
        "print(\"Case 1:\", formatted_prompt1)\n",
        "\n",
        "# Case 2: Extra variable present\n",
        "formatted_prompt2 = prompt.format(variable1=\"test\", variable2=\"example\", variable3=\"extra\")\n",
        "print(\"Case 2:\", formatted_prompt2)\n",
        "\n",
        "# Case 3: Missing a variable\n",
        "try:\n",
        "    formatted_prompt3 = prompt.format(variable1=\"test\")\n",
        "    print(\"Case 3:\", formatted_prompt3)\n",
        "except KeyError as e:\n",
        "    print(f\"Case 3: KeyError: {e}\")\n",
        "\n",
        "# Case 4: Extra variables, and missing variables\n",
        "try:\n",
        "    formatted_prompt4 = prompt.format(variable2=\"example\", variable3 = \"extra\")\n",
        "    print(\"Case 4:\", formatted_prompt4)\n",
        "except KeyError as e:\n",
        "    print(f\"Case 4: KeyError: {e}\")"
      ],
      "metadata": {
        "colab": {
          "base_uri": "https://localhost:8080/"
        },
        "id": "GK6ymTAQ3vYT",
        "outputId": "f88b9407-f3fa-4f2a-fa2f-d1a36b7fc4ac"
      },
      "execution_count": 9,
      "outputs": [
        {
          "output_type": "stream",
          "name": "stdout",
          "text": [
            "Case 1: This is a test template with example.\n",
            "Case 2: This is a test template with example.\n",
            "Case 3: KeyError: 'variable2'\n",
            "Case 4: KeyError: 'variable1'\n"
          ]
        }
      ]
    },
    {
      "cell_type": "code",
      "source": [
        "from langchain.chains import LLMChain\n",
        "from langchain.prompts import PromptTemplate\n",
        "from google.colab import userdata\n",
        "from pprint import pprint\n",
        "\n",
        "# Initialize your LLM (replace with your actual API key)\n",
        "#i have already initialised\n",
        "\n",
        "# Define your prompt templates\n",
        "prompt_template_1 = PromptTemplate(\n",
        "    input_variables=[\"input_text\"],\n",
        "    template=\"Summarize the following text: {input_text}\",\n",
        ")\n",
        "\n",
        "prompt_template_2 = PromptTemplate(\n",
        "    input_variables=[\"summary\"],\n",
        "    template=\"Translate the following summary to Hindi: {summary}\",\n",
        ")\n",
        "\n",
        "prompt_template_3 = PromptTemplate(\n",
        "    input_variables=[\"Hindi_translation\"],\n",
        "    template=\"Explain the key points of the following: {Hindi_translation}\",\n",
        ")\n",
        "\n",
        "# Create your LLM chains\n",
        "chain_1 = LLMChain(llm=llm, prompt=prompt_template_1, output_key=\"summary\")\n",
        "chain_2 = LLMChain(llm=llm, prompt=prompt_template_2, output_key=\"Hindi_translation\")\n",
        "chain_3 = LLMChain(llm=llm, prompt=prompt_template_3, output_key=\"explanation\")\n",
        "\n",
        "# Example input\n",
        "input_text = \"LangChain is a framework for developing applications powered by language models. It enables applications that are data-aware and agentic.\"\n",
        "\n",
        "# Conditional chaining logic\n",
        "def run_chain(input_text, translate=True, explain=True):\n",
        "    results = chain_1.invoke(input_text)\n",
        "    if translate:\n",
        "        results = chain_2.invoke(results)\n",
        "        if explain:\n",
        "            results = chain_3.invoke(results)\n",
        "    return results\n",
        "\n",
        "# Example usage with different conditions\n",
        "print(\"--- Basic Summary ---\")\n",
        "pprint(run_chain(input_text, translate=False, explain=False))\n",
        "\n",
        "print(\"\\n--- Summary and Translation ---\")\n",
        "pprint(run_chain(input_text, translate=True, explain=False))\n",
        "\n",
        "print(\"\\n--- Summary, Translation, and Explanation ---\")\n",
        "pprint(run_chain(input_text, translate=True, explain=True))\n",
        "\n",
        "print(\"\\n--- Summary, and Explanation(without translation) ---\")\n",
        "pprint(run_chain(input_text, translate=False, explain=True)) #This will only run chain 1."
      ],
      "metadata": {
        "colab": {
          "base_uri": "https://localhost:8080/"
        },
        "id": "01LbL8ggcAS8",
        "outputId": "c3e5a524-a6fb-4277-e873-c21eead1b058"
      },
      "execution_count": null,
      "outputs": [
        {
          "output_type": "stream",
          "name": "stdout",
          "text": [
            "--- Basic Summary ---\n",
            "{'input_text': 'LangChain is a framework for developing applications powered '\n",
            "               'by language models. It enables applications that are '\n",
            "               'data-aware and agentic.',\n",
            " 'summary': 'LangChain is a framework designed for creating applications that '\n",
            "            'utilize language models. It allows these applications to be both '\n",
            "            'data-aware and capable of autonomous actions.'}\n",
            "\n",
            "--- Summary and Translation ---\n",
            "{'Hindi_translation': 'LangChain एक फ्रेमवर्क है जिसे भाषा मॉडल का उपयोग करने '\n",
            "                      'वाले अनुप्रयोगों को बनाने के लिए डिज़ाइन किया गया है। '\n",
            "                      'यह इन अनुप्रयोगों को डेटा-सचेत और स्वायत्त क्रियाओं में '\n",
            "                      'सक्षम बनाता है।',\n",
            " 'input_text': 'LangChain is a framework for developing applications powered '\n",
            "               'by language models. It enables applications that are '\n",
            "               'data-aware and agentic.',\n",
            " 'summary': 'LangChain is a framework designed for creating applications that '\n",
            "            'utilize language models. It allows these applications to be both '\n",
            "            'data-aware and capable of autonomous actions.'}\n",
            "\n",
            "--- Summary, Translation, and Explanation ---\n",
            "{'Hindi_translation': 'LangChain एक फ्रेमवर्क है जो भाषा मॉडल का उपयोग करने '\n",
            "                      'वाले अनुप्रयोगों को बनाने के लिए डिज़ाइन किया गया है। '\n",
            "                      'यह इन अनुप्रयोगों को डेटा-सचेत और स्वायत्त क्रियाओं में '\n",
            "                      'सक्षम बनाता है।',\n",
            " 'explanation': 'LangChain एक फ्रेमवर्क है जो विशेष रूप से भाषा मॉडल का उपयोग '\n",
            "                'करने वाले अनुप्रयोगों को बनाने के लिए डिज़ाइन किया गया है। '\n",
            "                'इसके कुछ मुख्य बिंदु निम्नलिखित हैं:\\n'\n",
            "                '\\n'\n",
            "                '1. **भाषा मॉडल का उपयोग**: LangChain का मुख्य उद्देश्य भाषा '\n",
            "                'मॉडल का उपयोग करके अनुप्रयोगों का निर्माण करना है। यह उन '\n",
            "                'अनुप्रयोगों को सक्षम बनाता है जो प्राकृतिक भाषा को समझते और '\n",
            "                'उत्पन्न करते हैं।\\n'\n",
            "                '\\n'\n",
            "                '2. **डेटा-सचेत अनुप्रयोग**: यह फ्रेमवर्क उन अनुप्रयोगों को '\n",
            "                'बनाने में मदद करता है जो डेटा के प्रति सचेत होते हैं। इसका '\n",
            "                'मतलब है कि ये अनुप्रयोग डेटा को समझ सकते हैं, उसका विश्लेषण '\n",
            "                'कर सकते हैं और उसके आधार पर निर्णय ले सकते हैं।\\n'\n",
            "                '\\n'\n",
            "                '3. **स्वायत्त क्रियाएं**: LangChain अनुप्रयोगों को स्वायत्त '\n",
            "                'क्रियाएं करने में सक्षम बनाता है। इसका अर्थ है कि ये '\n",
            "                'अनुप्रयोग स्वतः निर्णय ले सकते हैं और कार्य कर सकते हैं, बिना '\n",
            "                'निरंतर मानव हस्तक्षेप के।\\n'\n",
            "                '\\n'\n",
            "                '4. **डिज़ाइन और निर्माण**: यह फ्रेमवर्क डेवलपर्स को भाषा मॉडल '\n",
            "                'आधारित अनुप्रयोगों को डिज़ाइन और निर्माण करने के लिए आवश्यक '\n",
            "                'उपकरण और संसाधन प्रदान करता है।\\n'\n",
            "                '\\n'\n",
            "                'LangChain का उपयोग करके, डेवलपर्स अधिक स्मार्ट और स्वायत्त '\n",
            "                'अनुप्रयोग बना सकते हैं जो प्राकृतिक भाषा को प्रभावी ढंग से '\n",
            "                'प्रोसेस कर सकते हैं और उपयोगकर्ता की आवश्यकताओं के अनुसार '\n",
            "                'कार्य कर सकते हैं।',\n",
            " 'input_text': 'LangChain is a framework for developing applications powered '\n",
            "               'by language models. It enables applications that are '\n",
            "               'data-aware and agentic.',\n",
            " 'summary': 'LangChain is a framework designed for creating applications that '\n",
            "            'utilize language models. It allows these applications to be both '\n",
            "            'data-aware and capable of autonomous actions.'}\n",
            "\n",
            "--- Summary, and Explanation(without translation) ---\n",
            "{'input_text': 'LangChain is a framework for developing applications powered '\n",
            "               'by language models. It enables applications that are '\n",
            "               'data-aware and agentic.',\n",
            " 'summary': 'LangChain is a framework designed for creating applications that '\n",
            "            'utilize language models. It allows these applications to be both '\n",
            "            'data-aware and capable of autonomous actions.'}\n"
          ]
        }
      ]
    },
    {
      "cell_type": "code",
      "source": [
        "from langchain_core.prompts import ChatPromptTemplate\n",
        "from langchain_core.output_parsers import StrOutputParser\n",
        "from langchain_core.runnables import RunnableLambda, RunnablePassthrough\n",
        "from typing import Literal\n",
        "from typing_extensions import TypedDict\n",
        "from operator import itemgetter\n",
        "\n",
        "# Initialize LLM\n",
        "# already initialised\n",
        "\n",
        "# Task-specific prompts\n",
        "prompt_email = ChatPromptTemplate.from_messages([\n",
        "    (\"system\", \"You are an email drafting assistant. Compose a professional email.\"),\n",
        "    (\"human\", \"{request}\")\n",
        "])\n",
        "\n",
        "prompt_calendar = ChatPromptTemplate.from_messages([\n",
        "    (\"system\", \"You are a calendar scheduling assistant. Provide scheduling instructions.\"),\n",
        "    (\"human\", \"{request}\")\n",
        "])\n",
        "\n",
        "prompt_search = ChatPromptTemplate.from_messages([\n",
        "    (\"system\", \"You are a web search assistant. Formulate a search query.\"),\n",
        "    (\"human\", \"{request}\")\n",
        "])\n",
        "\n",
        "prompt_extraction = ChatPromptTemplate.from_messages([\n",
        "    (\"system\", \"You are a data extraction assistant. Extract relevant information.\"),\n",
        "    (\"human\", \"Request: {request}\\nText: {text}\")\n",
        "])\n",
        "\n",
        "# Task-specific chains\n",
        "chain_email = prompt_email | llm | StrOutputParser()\n",
        "chain_calendar = prompt_calendar | llm | StrOutputParser()\n",
        "chain_search = prompt_search | llm | StrOutputParser()\n",
        "chain_extraction = prompt_extraction | llm | StrOutputParser()\n",
        "\n",
        "route_prompt = ChatPromptTemplate.from_messages([\n",
        "    (\"system\", \"Classify the user request into one of the following categories: email, calendar, search, extraction. Return only the category name.\"),\n",
        "    (\"human\", \"{request}\")\n",
        "])\n",
        "\n",
        "route_chain = route_prompt | llm | StrOutputParser() | RunnableLambda(lambda x: {\"destination\": x.strip()}) | itemgetter(\"destination\")\n",
        "\n",
        "# Main Chain (Routing and Execution)\n",
        "def route_and_execute(inputs):\n",
        "    destination = inputs[\"destination\"]\n",
        "    request = inputs[\"request\"]\n",
        "    text = inputs.get(\"text\", \"\")\n",
        "\n",
        "    if destination == \"email\":\n",
        "        return chain_email.invoke({\"request\": request})\n",
        "    elif destination == \"calendar\":\n",
        "        return chain_calendar.invoke({\"request\": request})\n",
        "    elif destination == \"search\":\n",
        "        return chain_search.invoke({\"request\": request})\n",
        "    elif destination == \"extraction\":\n",
        "        return chain_extraction.invoke({\"request\": request, \"text\": text})\n",
        "    else:\n",
        "        raise ValueError(f\"Unknown destination: {destination}\")\n",
        "\n",
        "main_chain = {\n",
        "    \"destination\": route_chain,\n",
        "    \"request\": lambda x: x[\"request\"],\n",
        "    \"text\": lambda x: x.get(\"text\", \"\")\n",
        "} | RunnableLambda(route_and_execute)\n",
        "\n",
        "# Example requests\n",
        "email_request = {\"request\": \"Write an email to John to reschedule our meeting for next week.\"}\n",
        "calendar_request = {\"request\": \"Schedule an appointment with the dentist for next Tuesday at 2 PM.\"}\n",
        "search_request = {\"request\": \"Find the latest news about AI development.\"}\n",
        "extraction_request = {\"request\": \"Extract the phone number.\", \"text\": \"Contact us at 1-800-555-1212 for support.\"}\n",
        "\n",
        "# Invoke the main chain\n",
        "print(\"--- Email Request ---\")\n",
        "print(main_chain.invoke(email_request))\n",
        "\n",
        "print(\"\\n--- Calendar Request ---\")\n",
        "print(main_chain.invoke(calendar_request))\n",
        "\n",
        "print(\"\\n--- Search Request ---\")\n",
        "print(main_chain.invoke(search_request))\n",
        "\n",
        "print(\"\\n--- Extraction Request ---\")\n",
        "print(main_chain.invoke(extraction_request))"
      ],
      "metadata": {
        "colab": {
          "base_uri": "https://localhost:8080/"
        },
        "id": "P-ADQXtfpMFS",
        "outputId": "1d63f9b8-36c6-4a83-eb55-166c7264ec5b"
      },
      "execution_count": null,
      "outputs": [
        {
          "output_type": "stream",
          "name": "stdout",
          "text": [
            "--- Email Request ---\n",
            "Subject: Request to Reschedule Meeting\n",
            "\n",
            "Dear John,\n",
            "\n",
            "I hope this email finds you well.\n",
            "\n",
            "I am writing to request a reschedule of our meeting originally planned for [original meeting date and time]. Due to an unforeseen conflict in my schedule, I am unable to attend at the previously agreed time.\n",
            "\n",
            "Could we please move our meeting to next week? I am available on [provide a few alternative dates and times that work for you]. Please let me know which of these options works best for you, or if there is another time that would be more convenient.\n",
            "\n",
            "I apologize for any inconvenience this may cause and appreciate your understanding. I look forward to our meeting and discussing [briefly mention the purpose of the meeting, if appropriate].\n",
            "\n",
            "Thank you for your flexibility.\n",
            "\n",
            "Best regards,\n",
            "\n",
            "[Your Full Name]  \n",
            "[Your Position]  \n",
            "[Your Contact Information]  \n",
            "[Your Company Name]\n",
            "\n",
            "--- Calendar Request ---\n",
            "To schedule an appointment with the dentist for next Tuesday at 2 PM, follow these steps:\n",
            "\n",
            "1. Check the date for next Tuesday on your calendar.\n",
            "2. Contact your dentist's office via phone or their online appointment system.\n",
            "3. Request an appointment for the specific date and time (next Tuesday at 2 PM).\n",
            "4. Provide any necessary information, such as your name, contact details, and reason for the visit.\n",
            "5. Confirm the appointment and note any instructions or preparations needed.\n",
            "6. Add the confirmed appointment to your calendar.\n",
            "\n",
            "If you need to reschedule or cancel, make sure to inform the dentist's office as soon as possible.\n",
            "\n",
            "--- Search Request ---\n",
            "\"latest news on AI development October 2023\"\n",
            "\n",
            "--- Extraction Request ---\n",
            "Phone number: 1-800-555-1212\n"
          ]
        }
      ]
    }
  ]
}